{
  "nbformat": 4,
  "nbformat_minor": 0,
  "metadata": {
    "kernelspec": {
      "display_name": "Python 3 (ipykernel)",
      "language": "python",
      "name": "python3"
    },
    "language_info": {
      "codemirror_mode": {
        "name": "ipython",
        "version": 3
      },
      "file_extension": ".py",
      "mimetype": "text/x-python",
      "name": "python",
      "nbconvert_exporter": "python",
      "pygments_lexer": "ipython3",
      "version": "3.7.6"
    },
    "colab": {
      "name": "Salary Predictions Case Study.ipynb",
      "provenance": [],
      "include_colab_link": true
    }
  },
  "cells": [
    {
      "cell_type": "markdown",
      "metadata": {
        "id": "view-in-github",
        "colab_type": "text"
      },
      "source": [
        "<a href=\"https://colab.research.google.com/github/ajuni-sohota/salarypredictionportfolio/blob/main/Salary_Predictions_Case_Study.ipynb\" target=\"_parent\"><img src=\"https://colab.research.google.com/assets/colab-badge.svg\" alt=\"Open In Colab\"/></a>"
      ]
    },
    {
      "cell_type": "markdown",
      "metadata": {
        "id": "H8Mcz8kWztHV"
      },
      "source": [
        "# Salary Predictions Based on Job Descriptions"
      ]
    },
    {
      "cell_type": "markdown",
      "metadata": {
        "id": "M0Dun-5fztHe"
      },
      "source": [
        "# Part 1 - DEFINE"
      ]
    },
    {
      "cell_type": "markdown",
      "metadata": {
        "id": "-juYrTFiztHf"
      },
      "source": [
        "#### ---- 1 Define the problem ----"
      ]
    },
    {
      "cell_type": "markdown",
      "metadata": {
        "id": "20LmhBnaztHf"
      },
      "source": [
        "For the following datasets containing information on job descriptions, I will build a model that uses predictive analytics techniques to predict the salary for different occupations. One such implementation of this are found in job search engines where the estimated salary is provided for those that are on the hunt for a new job. This is useful because job seekers can then focus on applying for jobs that are within their goal salary range."
      ]
    },
    {
      "cell_type": "code",
      "metadata": {
        "id": "l2frt4DsztHg"
      },
      "source": [
        "#import libraries\n",
        "import pandas as pd\n",
        "import numpy as np\n",
        "import matplotlib.pyplot as plt\n",
        "import seaborn as sns\n",
        "import scipy as sp\n",
        "\n",
        "from sklearn.metrics import r2_score\n",
        "from sklearn.metrics import mean_squared_error\n",
        "\n",
        "from sklearn.model_selection import train_test_split\n",
        "from sklearn.model_selection import cross_val_score\n",
        "from sklearn.model_selection import GridSearchCV, RandomizedSearchCV\n",
        "\n",
        "from IPython.core.interactiveshell import InteractiveShell\n",
        "InteractiveShell.ast_node_interactivity = \"all\"\n",
        "\n",
        "import warnings\n",
        "warnings.filterwarnings(\"ignore\")\n",
        "\n",
        "\n",
        "__author__ = \"Ajuni Sohota\"\n",
        "__email__ = \"ajunisohota@gmail.com\""
      ],
      "execution_count": 13,
      "outputs": []
    },
    {
      "cell_type": "code",
      "metadata": {
        "id": "ZDEWAgAkVq0d"
      },
      "source": [
        "#pip install geopandas\n"
      ],
      "execution_count": 14,
      "outputs": []
    },
    {
      "cell_type": "code",
      "metadata": {
        "id": "Ow3AgDXVWAZ7"
      },
      "source": [
        "#pip install dataframe_image"
      ],
      "execution_count": 15,
      "outputs": []
    },
    {
      "cell_type": "code",
      "metadata": {
        "id": "Miafuzp7WEWs"
      },
      "source": [
        "#pip install ast"
      ],
      "execution_count": 16,
      "outputs": []
    },
    {
      "cell_type": "code",
      "metadata": {
        "id": "TnmgFgy3ztHh"
      },
      "source": [
        "import geopandas as gpd\n",
        "import dataframe_image as dfi\n",
        "from ast import literal_eval"
      ],
      "execution_count": 17,
      "outputs": []
    },
    {
      "cell_type": "code",
      "metadata": {
        "id": "mfTB1C5DztHi"
      },
      "source": [
        "import os\n",
        "import sys\n",
        "import time\n",
        "import numpy as np\n",
        "import pandas as pd\n",
        "import matplotlib.pyplot as plt\n",
        "import seaborn as sns\n",
        "\n",
        "\n",
        "%matplotlib inline\n",
        "\n",
        "import xgboost as xgb\n",
        "from sklearn.pipeline import FeatureUnion\n",
        "from sklearn.metrics import mean_squared_error\n",
        "from sklearn.pipeline import Pipeline\n",
        "from sklearn.base import BaseEstimator, TransformerMixin\n",
        "from sklearn.impute import SimpleImputer\n",
        "from sklearn.preprocessing import StandardScaler, OneHotEncoder\n",
        "from sklearn.model_selection import learning_curve, ShuffleSplit, RepeatedKFold\n",
        "from sklearn.model_selection import train_test_split, cross_val_score, GridSearchCV\n",
        "from sklearn.ensemble import RandomForestRegressor, GradientBoostingRegressor\n",
        "from sklearn.linear_model import Ridge, LinearRegression\n",
        "from sklearn.tree import DecisionTreeRegressor"
      ],
      "execution_count": 18,
      "outputs": []
    },
    {
      "cell_type": "markdown",
      "metadata": {
        "id": "8E9vRAyQztHj"
      },
      "source": [
        "## Part 2 - DISCOVER"
      ]
    },
    {
      "cell_type": "markdown",
      "metadata": {
        "id": "MrkYsDX_ztHk"
      },
      "source": [
        "#### ---- 2 Load the data ----"
      ]
    },
    {
      "cell_type": "code",
      "metadata": {
        "id": "QpqYErVPztHk"
      },
      "source": [
        "#load the data into a Pandas dataframe\n",
        "train_features = pd.read_csv(\"train_features.csv\")\n",
        "train_salary = pd.read_csv(\"train_salaries.csv\")\n",
        "test_features = pd.read_csv(\"test_features.csv\")\n"
      ],
      "execution_count": 19,
      "outputs": []
    },
    {
      "cell_type": "code",
      "metadata": {
        "id": "Y-bXLxBLztHl",
        "colab": {
          "base_uri": "https://localhost:8080/",
          "height": 224
        },
        "outputId": "977d3ceb-3ec4-4eda-c505-93a63f79db35"
      },
      "source": [
        "train_features.head()"
      ],
      "execution_count": 20,
      "outputs": [
        {
          "output_type": "execute_result",
          "data": {
            "text/html": [
              "<div>\n",
              "<style scoped>\n",
              "    .dataframe tbody tr th:only-of-type {\n",
              "        vertical-align: middle;\n",
              "    }\n",
              "\n",
              "    .dataframe tbody tr th {\n",
              "        vertical-align: top;\n",
              "    }\n",
              "\n",
              "    .dataframe thead th {\n",
              "        text-align: right;\n",
              "    }\n",
              "</style>\n",
              "<table border=\"1\" class=\"dataframe\">\n",
              "  <thead>\n",
              "    <tr style=\"text-align: right;\">\n",
              "      <th></th>\n",
              "      <th>jobId</th>\n",
              "      <th>companyId</th>\n",
              "      <th>jobType</th>\n",
              "      <th>degree</th>\n",
              "      <th>major</th>\n",
              "      <th>industry</th>\n",
              "      <th>yearsExperience</th>\n",
              "      <th>milesFromMetropolis</th>\n",
              "    </tr>\n",
              "  </thead>\n",
              "  <tbody>\n",
              "    <tr>\n",
              "      <th>0</th>\n",
              "      <td>JOB1362684407687</td>\n",
              "      <td>COMP37</td>\n",
              "      <td>CFO</td>\n",
              "      <td>MASTERS</td>\n",
              "      <td>MATH</td>\n",
              "      <td>HEALTH</td>\n",
              "      <td>10</td>\n",
              "      <td>83</td>\n",
              "    </tr>\n",
              "    <tr>\n",
              "      <th>1</th>\n",
              "      <td>JOB1362684407688</td>\n",
              "      <td>COMP19</td>\n",
              "      <td>CEO</td>\n",
              "      <td>HIGH_SCHOOL</td>\n",
              "      <td>NONE</td>\n",
              "      <td>WEB</td>\n",
              "      <td>3</td>\n",
              "      <td>73</td>\n",
              "    </tr>\n",
              "    <tr>\n",
              "      <th>2</th>\n",
              "      <td>JOB1362684407689</td>\n",
              "      <td>COMP52</td>\n",
              "      <td>VICE_PRESIDENT</td>\n",
              "      <td>DOCTORAL</td>\n",
              "      <td>PHYSICS</td>\n",
              "      <td>HEALTH</td>\n",
              "      <td>10</td>\n",
              "      <td>38</td>\n",
              "    </tr>\n",
              "    <tr>\n",
              "      <th>3</th>\n",
              "      <td>JOB1362684407690</td>\n",
              "      <td>COMP38</td>\n",
              "      <td>MANAGER</td>\n",
              "      <td>DOCTORAL</td>\n",
              "      <td>CHEMISTRY</td>\n",
              "      <td>AUTO</td>\n",
              "      <td>8</td>\n",
              "      <td>17</td>\n",
              "    </tr>\n",
              "    <tr>\n",
              "      <th>4</th>\n",
              "      <td>JOB1362684407691</td>\n",
              "      <td>COMP7</td>\n",
              "      <td>VICE_PRESIDENT</td>\n",
              "      <td>BACHELORS</td>\n",
              "      <td>PHYSICS</td>\n",
              "      <td>FINANCE</td>\n",
              "      <td>8</td>\n",
              "      <td>16</td>\n",
              "    </tr>\n",
              "  </tbody>\n",
              "</table>\n",
              "</div>"
            ],
            "text/plain": [
              "              jobId companyId  ... yearsExperience milesFromMetropolis\n",
              "0  JOB1362684407687    COMP37  ...              10                  83\n",
              "1  JOB1362684407688    COMP19  ...               3                  73\n",
              "2  JOB1362684407689    COMP52  ...              10                  38\n",
              "3  JOB1362684407690    COMP38  ...               8                  17\n",
              "4  JOB1362684407691     COMP7  ...               8                  16\n",
              "\n",
              "[5 rows x 8 columns]"
            ]
          },
          "metadata": {},
          "execution_count": 20
        }
      ]
    },
    {
      "cell_type": "code",
      "metadata": {
        "id": "8hXIZDEmztHm",
        "colab": {
          "base_uri": "https://localhost:8080/",
          "height": 204
        },
        "outputId": "6dd3418c-f2ae-48d5-f8a1-bd506e2bab86"
      },
      "source": [
        "train_salary.head()"
      ],
      "execution_count": 21,
      "outputs": [
        {
          "output_type": "execute_result",
          "data": {
            "text/html": [
              "<div>\n",
              "<style scoped>\n",
              "    .dataframe tbody tr th:only-of-type {\n",
              "        vertical-align: middle;\n",
              "    }\n",
              "\n",
              "    .dataframe tbody tr th {\n",
              "        vertical-align: top;\n",
              "    }\n",
              "\n",
              "    .dataframe thead th {\n",
              "        text-align: right;\n",
              "    }\n",
              "</style>\n",
              "<table border=\"1\" class=\"dataframe\">\n",
              "  <thead>\n",
              "    <tr style=\"text-align: right;\">\n",
              "      <th></th>\n",
              "      <th>jobId</th>\n",
              "      <th>salary</th>\n",
              "    </tr>\n",
              "  </thead>\n",
              "  <tbody>\n",
              "    <tr>\n",
              "      <th>0</th>\n",
              "      <td>JOB1362684407687</td>\n",
              "      <td>130</td>\n",
              "    </tr>\n",
              "    <tr>\n",
              "      <th>1</th>\n",
              "      <td>JOB1362684407688</td>\n",
              "      <td>101</td>\n",
              "    </tr>\n",
              "    <tr>\n",
              "      <th>2</th>\n",
              "      <td>JOB1362684407689</td>\n",
              "      <td>137</td>\n",
              "    </tr>\n",
              "    <tr>\n",
              "      <th>3</th>\n",
              "      <td>JOB1362684407690</td>\n",
              "      <td>142</td>\n",
              "    </tr>\n",
              "    <tr>\n",
              "      <th>4</th>\n",
              "      <td>JOB1362684407691</td>\n",
              "      <td>163</td>\n",
              "    </tr>\n",
              "  </tbody>\n",
              "</table>\n",
              "</div>"
            ],
            "text/plain": [
              "              jobId  salary\n",
              "0  JOB1362684407687     130\n",
              "1  JOB1362684407688     101\n",
              "2  JOB1362684407689     137\n",
              "3  JOB1362684407690     142\n",
              "4  JOB1362684407691     163"
            ]
          },
          "metadata": {},
          "execution_count": 21
        }
      ]
    },
    {
      "cell_type": "code",
      "metadata": {
        "id": "HgbkrL_fztHo",
        "colab": {
          "base_uri": "https://localhost:8080/",
          "height": 224
        },
        "outputId": "5ca29d39-1477-4db2-dff5-343d593c1781"
      },
      "source": [
        "# merge both train datasets on jobId\n",
        "train_data = pd.merge(train_features, train_salary, on=\"jobId\")\n",
        "train_data.head()"
      ],
      "execution_count": 22,
      "outputs": [
        {
          "output_type": "execute_result",
          "data": {
            "text/html": [
              "<div>\n",
              "<style scoped>\n",
              "    .dataframe tbody tr th:only-of-type {\n",
              "        vertical-align: middle;\n",
              "    }\n",
              "\n",
              "    .dataframe tbody tr th {\n",
              "        vertical-align: top;\n",
              "    }\n",
              "\n",
              "    .dataframe thead th {\n",
              "        text-align: right;\n",
              "    }\n",
              "</style>\n",
              "<table border=\"1\" class=\"dataframe\">\n",
              "  <thead>\n",
              "    <tr style=\"text-align: right;\">\n",
              "      <th></th>\n",
              "      <th>jobId</th>\n",
              "      <th>companyId</th>\n",
              "      <th>jobType</th>\n",
              "      <th>degree</th>\n",
              "      <th>major</th>\n",
              "      <th>industry</th>\n",
              "      <th>yearsExperience</th>\n",
              "      <th>milesFromMetropolis</th>\n",
              "      <th>salary</th>\n",
              "    </tr>\n",
              "  </thead>\n",
              "  <tbody>\n",
              "    <tr>\n",
              "      <th>0</th>\n",
              "      <td>JOB1362684407687</td>\n",
              "      <td>COMP37</td>\n",
              "      <td>CFO</td>\n",
              "      <td>MASTERS</td>\n",
              "      <td>MATH</td>\n",
              "      <td>HEALTH</td>\n",
              "      <td>10</td>\n",
              "      <td>83</td>\n",
              "      <td>130</td>\n",
              "    </tr>\n",
              "    <tr>\n",
              "      <th>1</th>\n",
              "      <td>JOB1362684407688</td>\n",
              "      <td>COMP19</td>\n",
              "      <td>CEO</td>\n",
              "      <td>HIGH_SCHOOL</td>\n",
              "      <td>NONE</td>\n",
              "      <td>WEB</td>\n",
              "      <td>3</td>\n",
              "      <td>73</td>\n",
              "      <td>101</td>\n",
              "    </tr>\n",
              "    <tr>\n",
              "      <th>2</th>\n",
              "      <td>JOB1362684407689</td>\n",
              "      <td>COMP52</td>\n",
              "      <td>VICE_PRESIDENT</td>\n",
              "      <td>DOCTORAL</td>\n",
              "      <td>PHYSICS</td>\n",
              "      <td>HEALTH</td>\n",
              "      <td>10</td>\n",
              "      <td>38</td>\n",
              "      <td>137</td>\n",
              "    </tr>\n",
              "    <tr>\n",
              "      <th>3</th>\n",
              "      <td>JOB1362684407690</td>\n",
              "      <td>COMP38</td>\n",
              "      <td>MANAGER</td>\n",
              "      <td>DOCTORAL</td>\n",
              "      <td>CHEMISTRY</td>\n",
              "      <td>AUTO</td>\n",
              "      <td>8</td>\n",
              "      <td>17</td>\n",
              "      <td>142</td>\n",
              "    </tr>\n",
              "    <tr>\n",
              "      <th>4</th>\n",
              "      <td>JOB1362684407691</td>\n",
              "      <td>COMP7</td>\n",
              "      <td>VICE_PRESIDENT</td>\n",
              "      <td>BACHELORS</td>\n",
              "      <td>PHYSICS</td>\n",
              "      <td>FINANCE</td>\n",
              "      <td>8</td>\n",
              "      <td>16</td>\n",
              "      <td>163</td>\n",
              "    </tr>\n",
              "  </tbody>\n",
              "</table>\n",
              "</div>"
            ],
            "text/plain": [
              "              jobId companyId  ... milesFromMetropolis salary\n",
              "0  JOB1362684407687    COMP37  ...                  83    130\n",
              "1  JOB1362684407688    COMP19  ...                  73    101\n",
              "2  JOB1362684407689    COMP52  ...                  38    137\n",
              "3  JOB1362684407690    COMP38  ...                  17    142\n",
              "4  JOB1362684407691     COMP7  ...                  16    163\n",
              "\n",
              "[5 rows x 9 columns]"
            ]
          },
          "metadata": {},
          "execution_count": 22
        }
      ]
    },
    {
      "cell_type": "code",
      "metadata": {
        "scrolled": true,
        "id": "ROuDbKs0ztHp",
        "colab": {
          "base_uri": "https://localhost:8080/",
          "height": 224
        },
        "outputId": "f8ba4546-d569-4a17-aa7d-4e27c2c3fe5d"
      },
      "source": [
        "# check to make sure test_features has same format\n",
        "test_features.head()"
      ],
      "execution_count": 23,
      "outputs": [
        {
          "output_type": "execute_result",
          "data": {
            "text/html": [
              "<div>\n",
              "<style scoped>\n",
              "    .dataframe tbody tr th:only-of-type {\n",
              "        vertical-align: middle;\n",
              "    }\n",
              "\n",
              "    .dataframe tbody tr th {\n",
              "        vertical-align: top;\n",
              "    }\n",
              "\n",
              "    .dataframe thead th {\n",
              "        text-align: right;\n",
              "    }\n",
              "</style>\n",
              "<table border=\"1\" class=\"dataframe\">\n",
              "  <thead>\n",
              "    <tr style=\"text-align: right;\">\n",
              "      <th></th>\n",
              "      <th>jobId</th>\n",
              "      <th>companyId</th>\n",
              "      <th>jobType</th>\n",
              "      <th>degree</th>\n",
              "      <th>major</th>\n",
              "      <th>industry</th>\n",
              "      <th>yearsExperience</th>\n",
              "      <th>milesFromMetropolis</th>\n",
              "    </tr>\n",
              "  </thead>\n",
              "  <tbody>\n",
              "    <tr>\n",
              "      <th>0</th>\n",
              "      <td>JOB1362685407687</td>\n",
              "      <td>COMP33</td>\n",
              "      <td>MANAGER</td>\n",
              "      <td>HIGH_SCHOOL</td>\n",
              "      <td>NONE</td>\n",
              "      <td>HEALTH</td>\n",
              "      <td>22</td>\n",
              "      <td>73</td>\n",
              "    </tr>\n",
              "    <tr>\n",
              "      <th>1</th>\n",
              "      <td>JOB1362685407688</td>\n",
              "      <td>COMP13</td>\n",
              "      <td>JUNIOR</td>\n",
              "      <td>NONE</td>\n",
              "      <td>NONE</td>\n",
              "      <td>AUTO</td>\n",
              "      <td>20</td>\n",
              "      <td>47</td>\n",
              "    </tr>\n",
              "    <tr>\n",
              "      <th>2</th>\n",
              "      <td>JOB1362685407689</td>\n",
              "      <td>COMP10</td>\n",
              "      <td>CTO</td>\n",
              "      <td>MASTERS</td>\n",
              "      <td>BIOLOGY</td>\n",
              "      <td>HEALTH</td>\n",
              "      <td>17</td>\n",
              "      <td>9</td>\n",
              "    </tr>\n",
              "    <tr>\n",
              "      <th>3</th>\n",
              "      <td>JOB1362685407690</td>\n",
              "      <td>COMP21</td>\n",
              "      <td>MANAGER</td>\n",
              "      <td>HIGH_SCHOOL</td>\n",
              "      <td>NONE</td>\n",
              "      <td>OIL</td>\n",
              "      <td>14</td>\n",
              "      <td>96</td>\n",
              "    </tr>\n",
              "    <tr>\n",
              "      <th>4</th>\n",
              "      <td>JOB1362685407691</td>\n",
              "      <td>COMP36</td>\n",
              "      <td>JUNIOR</td>\n",
              "      <td>DOCTORAL</td>\n",
              "      <td>BIOLOGY</td>\n",
              "      <td>OIL</td>\n",
              "      <td>10</td>\n",
              "      <td>44</td>\n",
              "    </tr>\n",
              "  </tbody>\n",
              "</table>\n",
              "</div>"
            ],
            "text/plain": [
              "              jobId companyId  ... yearsExperience milesFromMetropolis\n",
              "0  JOB1362685407687    COMP33  ...              22                  73\n",
              "1  JOB1362685407688    COMP13  ...              20                  47\n",
              "2  JOB1362685407689    COMP10  ...              17                   9\n",
              "3  JOB1362685407690    COMP21  ...              14                  96\n",
              "4  JOB1362685407691    COMP36  ...              10                  44\n",
              "\n",
              "[5 rows x 8 columns]"
            ]
          },
          "metadata": {},
          "execution_count": 23
        }
      ]
    },
    {
      "cell_type": "code",
      "metadata": {
        "id": "4qLgHydQztHq",
        "colab": {
          "base_uri": "https://localhost:8080/"
        },
        "outputId": "ec51e127-118a-47ff-b1d3-9549ef1b8871"
      },
      "source": [
        "train_data.info()"
      ],
      "execution_count": 24,
      "outputs": [
        {
          "output_type": "stream",
          "name": "stdout",
          "text": [
            "<class 'pandas.core.frame.DataFrame'>\n",
            "Int64Index: 1000000 entries, 0 to 999999\n",
            "Data columns (total 9 columns):\n",
            " #   Column               Non-Null Count    Dtype \n",
            "---  ------               --------------    ----- \n",
            " 0   jobId                1000000 non-null  object\n",
            " 1   companyId            1000000 non-null  object\n",
            " 2   jobType              1000000 non-null  object\n",
            " 3   degree               1000000 non-null  object\n",
            " 4   major                1000000 non-null  object\n",
            " 5   industry             1000000 non-null  object\n",
            " 6   yearsExperience      1000000 non-null  int64 \n",
            " 7   milesFromMetropolis  1000000 non-null  int64 \n",
            " 8   salary               1000000 non-null  int64 \n",
            "dtypes: int64(3), object(6)\n",
            "memory usage: 76.3+ MB\n"
          ]
        }
      ]
    },
    {
      "cell_type": "code",
      "metadata": {
        "id": "BwhT4XZJztHq",
        "colab": {
          "base_uri": "https://localhost:8080/"
        },
        "outputId": "ab77f30a-7cef-4150-d664-59d405df202e"
      },
      "source": [
        "train_data.shape"
      ],
      "execution_count": 25,
      "outputs": [
        {
          "output_type": "execute_result",
          "data": {
            "text/plain": [
              "(1000000, 9)"
            ]
          },
          "metadata": {},
          "execution_count": 25
        }
      ]
    },
    {
      "cell_type": "markdown",
      "metadata": {
        "id": "5vOhtfdKztHr"
      },
      "source": [
        "#### ---- 3 Clean the data ----"
      ]
    },
    {
      "cell_type": "markdown",
      "metadata": {
        "id": "LLWh6PiZztHr"
      },
      "source": [
        "Looking for duplicate data, invalid data (e.g. salaries <=0), or corrupt data and removing it."
      ]
    },
    {
      "cell_type": "code",
      "metadata": {
        "id": "zie2Uc9QztHr",
        "colab": {
          "base_uri": "https://localhost:8080/"
        },
        "outputId": "889c264e-598a-4904-96b5-d0a1656c8511"
      },
      "source": [
        "# search for duplicate data\n",
        "train_data.duplicated().sum()"
      ],
      "execution_count": 26,
      "outputs": [
        {
          "output_type": "execute_result",
          "data": {
            "text/plain": [
              "0"
            ]
          },
          "metadata": {},
          "execution_count": 26
        }
      ]
    },
    {
      "cell_type": "markdown",
      "metadata": {
        "id": "SNhOVxunztHs"
      },
      "source": [
        "There is no duplicated data in this dataset."
      ]
    },
    {
      "cell_type": "code",
      "metadata": {
        "id": "JDnu6INvztHs",
        "colab": {
          "base_uri": "https://localhost:8080/"
        },
        "outputId": "0453112b-9520-4e46-f03f-4b21cacbe83f"
      },
      "source": [
        "# search for null data\n",
        "train_data.isnull().sum()"
      ],
      "execution_count": 27,
      "outputs": [
        {
          "output_type": "execute_result",
          "data": {
            "text/plain": [
              "jobId                  0\n",
              "companyId              0\n",
              "jobType                0\n",
              "degree                 0\n",
              "major                  0\n",
              "industry               0\n",
              "yearsExperience        0\n",
              "milesFromMetropolis    0\n",
              "salary                 0\n",
              "dtype: int64"
            ]
          },
          "metadata": {},
          "execution_count": 27
        }
      ]
    },
    {
      "cell_type": "code",
      "metadata": {
        "id": "q9Myr5hvztHs",
        "colab": {
          "base_uri": "https://localhost:8080/",
          "height": 224
        },
        "outputId": "c8b9ae52-1318-49f0-a500-4128332204d5"
      },
      "source": [
        "# search for salaries <= 0 to remove\n",
        "train_data[train_data['salary']<=0]"
      ],
      "execution_count": 28,
      "outputs": [
        {
          "output_type": "execute_result",
          "data": {
            "text/html": [
              "<div>\n",
              "<style scoped>\n",
              "    .dataframe tbody tr th:only-of-type {\n",
              "        vertical-align: middle;\n",
              "    }\n",
              "\n",
              "    .dataframe tbody tr th {\n",
              "        vertical-align: top;\n",
              "    }\n",
              "\n",
              "    .dataframe thead th {\n",
              "        text-align: right;\n",
              "    }\n",
              "</style>\n",
              "<table border=\"1\" class=\"dataframe\">\n",
              "  <thead>\n",
              "    <tr style=\"text-align: right;\">\n",
              "      <th></th>\n",
              "      <th>jobId</th>\n",
              "      <th>companyId</th>\n",
              "      <th>jobType</th>\n",
              "      <th>degree</th>\n",
              "      <th>major</th>\n",
              "      <th>industry</th>\n",
              "      <th>yearsExperience</th>\n",
              "      <th>milesFromMetropolis</th>\n",
              "      <th>salary</th>\n",
              "    </tr>\n",
              "  </thead>\n",
              "  <tbody>\n",
              "    <tr>\n",
              "      <th>30559</th>\n",
              "      <td>JOB1362684438246</td>\n",
              "      <td>COMP44</td>\n",
              "      <td>JUNIOR</td>\n",
              "      <td>DOCTORAL</td>\n",
              "      <td>MATH</td>\n",
              "      <td>AUTO</td>\n",
              "      <td>11</td>\n",
              "      <td>7</td>\n",
              "      <td>0</td>\n",
              "    </tr>\n",
              "    <tr>\n",
              "      <th>495984</th>\n",
              "      <td>JOB1362684903671</td>\n",
              "      <td>COMP34</td>\n",
              "      <td>JUNIOR</td>\n",
              "      <td>NONE</td>\n",
              "      <td>NONE</td>\n",
              "      <td>OIL</td>\n",
              "      <td>1</td>\n",
              "      <td>25</td>\n",
              "      <td>0</td>\n",
              "    </tr>\n",
              "    <tr>\n",
              "      <th>652076</th>\n",
              "      <td>JOB1362685059763</td>\n",
              "      <td>COMP25</td>\n",
              "      <td>CTO</td>\n",
              "      <td>HIGH_SCHOOL</td>\n",
              "      <td>NONE</td>\n",
              "      <td>AUTO</td>\n",
              "      <td>6</td>\n",
              "      <td>60</td>\n",
              "      <td>0</td>\n",
              "    </tr>\n",
              "    <tr>\n",
              "      <th>816129</th>\n",
              "      <td>JOB1362685223816</td>\n",
              "      <td>COMP42</td>\n",
              "      <td>MANAGER</td>\n",
              "      <td>DOCTORAL</td>\n",
              "      <td>ENGINEERING</td>\n",
              "      <td>FINANCE</td>\n",
              "      <td>18</td>\n",
              "      <td>6</td>\n",
              "      <td>0</td>\n",
              "    </tr>\n",
              "    <tr>\n",
              "      <th>828156</th>\n",
              "      <td>JOB1362685235843</td>\n",
              "      <td>COMP40</td>\n",
              "      <td>VICE_PRESIDENT</td>\n",
              "      <td>MASTERS</td>\n",
              "      <td>ENGINEERING</td>\n",
              "      <td>WEB</td>\n",
              "      <td>3</td>\n",
              "      <td>29</td>\n",
              "      <td>0</td>\n",
              "    </tr>\n",
              "  </tbody>\n",
              "</table>\n",
              "</div>"
            ],
            "text/plain": [
              "                   jobId companyId  ... milesFromMetropolis salary\n",
              "30559   JOB1362684438246    COMP44  ...                   7      0\n",
              "495984  JOB1362684903671    COMP34  ...                  25      0\n",
              "652076  JOB1362685059763    COMP25  ...                  60      0\n",
              "816129  JOB1362685223816    COMP42  ...                   6      0\n",
              "828156  JOB1362685235843    COMP40  ...                  29      0\n",
              "\n",
              "[5 rows x 9 columns]"
            ]
          },
          "metadata": {},
          "execution_count": 28
        }
      ]
    },
    {
      "cell_type": "markdown",
      "metadata": {
        "id": "2cRzBBnsztHt"
      },
      "source": [
        "There are 5 datapoints where the salary is listed as 0, I will drop these data points because these won't help us to predict salaries."
      ]
    },
    {
      "cell_type": "code",
      "metadata": {
        "id": "w8ZF9O4WztHt",
        "colab": {
          "base_uri": "https://localhost:8080/"
        },
        "outputId": "244ef2c2-a4a1-47c9-b5d7-1f7a9997c661"
      },
      "source": [
        "# update train_data to drop the above datapoints\n",
        "train_data = train_data[train_data['salary']>0]\n",
        "train_data.info"
      ],
      "execution_count": 29,
      "outputs": [
        {
          "output_type": "execute_result",
          "data": {
            "text/plain": [
              "<bound method DataFrame.info of                    jobId companyId  ... milesFromMetropolis salary\n",
              "0       JOB1362684407687    COMP37  ...                  83    130\n",
              "1       JOB1362684407688    COMP19  ...                  73    101\n",
              "2       JOB1362684407689    COMP52  ...                  38    137\n",
              "3       JOB1362684407690    COMP38  ...                  17    142\n",
              "4       JOB1362684407691     COMP7  ...                  16    163\n",
              "...                  ...       ...  ...                 ...    ...\n",
              "999995  JOB1362685407682    COMP56  ...                  94     88\n",
              "999996  JOB1362685407683    COMP24  ...                  35    160\n",
              "999997  JOB1362685407684    COMP23  ...                  81     64\n",
              "999998  JOB1362685407685     COMP3  ...                   5    149\n",
              "999999  JOB1362685407686    COMP59  ...                  11     88\n",
              "\n",
              "[999995 rows x 9 columns]>"
            ]
          },
          "metadata": {},
          "execution_count": 29
        }
      ]
    },
    {
      "cell_type": "markdown",
      "metadata": {
        "id": "KGEhBzvOztHt"
      },
      "source": [
        "#### ---- 4 Explore the data (EDA) ----"
      ]
    },
    {
      "cell_type": "code",
      "metadata": {
        "id": "ZOwTn9VIztHt"
      },
      "source": [
        "#summarize each feature variable\n",
        "#summarize the target variable\n",
        "#look for correlation between each feature and the target\n",
        "#look for correlation between features"
      ],
      "execution_count": 30,
      "outputs": []
    },
    {
      "cell_type": "markdown",
      "metadata": {
        "id": "jWKP2T3YztHu"
      },
      "source": [
        "##### Feature Variables Summaries: (Continuous Variables)\n",
        "Shows summary of all continuous variables. The target variable is included: salary."
      ]
    },
    {
      "cell_type": "code",
      "metadata": {
        "id": "H88QYrjuztHu",
        "colab": {
          "base_uri": "https://localhost:8080/",
          "height": 297
        },
        "outputId": "27b4c98b-1bad-49f0-e4c9-e9877728ecc4"
      },
      "source": [
        "train_data.describe()"
      ],
      "execution_count": 31,
      "outputs": [
        {
          "output_type": "execute_result",
          "data": {
            "text/html": [
              "<div>\n",
              "<style scoped>\n",
              "    .dataframe tbody tr th:only-of-type {\n",
              "        vertical-align: middle;\n",
              "    }\n",
              "\n",
              "    .dataframe tbody tr th {\n",
              "        vertical-align: top;\n",
              "    }\n",
              "\n",
              "    .dataframe thead th {\n",
              "        text-align: right;\n",
              "    }\n",
              "</style>\n",
              "<table border=\"1\" class=\"dataframe\">\n",
              "  <thead>\n",
              "    <tr style=\"text-align: right;\">\n",
              "      <th></th>\n",
              "      <th>yearsExperience</th>\n",
              "      <th>milesFromMetropolis</th>\n",
              "      <th>salary</th>\n",
              "    </tr>\n",
              "  </thead>\n",
              "  <tbody>\n",
              "    <tr>\n",
              "      <th>count</th>\n",
              "      <td>999995.000000</td>\n",
              "      <td>999995.000000</td>\n",
              "      <td>999995.000000</td>\n",
              "    </tr>\n",
              "    <tr>\n",
              "      <th>mean</th>\n",
              "      <td>11.992407</td>\n",
              "      <td>49.529381</td>\n",
              "      <td>116.062398</td>\n",
              "    </tr>\n",
              "    <tr>\n",
              "      <th>std</th>\n",
              "      <td>7.212390</td>\n",
              "      <td>28.877721</td>\n",
              "      <td>38.717163</td>\n",
              "    </tr>\n",
              "    <tr>\n",
              "      <th>min</th>\n",
              "      <td>0.000000</td>\n",
              "      <td>0.000000</td>\n",
              "      <td>17.000000</td>\n",
              "    </tr>\n",
              "    <tr>\n",
              "      <th>25%</th>\n",
              "      <td>6.000000</td>\n",
              "      <td>25.000000</td>\n",
              "      <td>88.000000</td>\n",
              "    </tr>\n",
              "    <tr>\n",
              "      <th>50%</th>\n",
              "      <td>12.000000</td>\n",
              "      <td>50.000000</td>\n",
              "      <td>114.000000</td>\n",
              "    </tr>\n",
              "    <tr>\n",
              "      <th>75%</th>\n",
              "      <td>18.000000</td>\n",
              "      <td>75.000000</td>\n",
              "      <td>141.000000</td>\n",
              "    </tr>\n",
              "    <tr>\n",
              "      <th>max</th>\n",
              "      <td>24.000000</td>\n",
              "      <td>99.000000</td>\n",
              "      <td>301.000000</td>\n",
              "    </tr>\n",
              "  </tbody>\n",
              "</table>\n",
              "</div>"
            ],
            "text/plain": [
              "       yearsExperience  milesFromMetropolis         salary\n",
              "count    999995.000000        999995.000000  999995.000000\n",
              "mean         11.992407            49.529381     116.062398\n",
              "std           7.212390            28.877721      38.717163\n",
              "min           0.000000             0.000000      17.000000\n",
              "25%           6.000000            25.000000      88.000000\n",
              "50%          12.000000            50.000000     114.000000\n",
              "75%          18.000000            75.000000     141.000000\n",
              "max          24.000000            99.000000     301.000000"
            ]
          },
          "metadata": {},
          "execution_count": 31
        }
      ]
    },
    {
      "cell_type": "markdown",
      "metadata": {
        "id": "nJ5IMBCpztHu"
      },
      "source": [
        "##### Feature Variables Summaries: (Categorical Variables)"
      ]
    },
    {
      "cell_type": "code",
      "metadata": {
        "id": "BBqFraHmztHu",
        "colab": {
          "base_uri": "https://localhost:8080/",
          "height": 173
        },
        "outputId": "9a08d145-98d7-46ae-878e-e90419f9591f"
      },
      "source": [
        "train_data.describe(include=['O'])"
      ],
      "execution_count": 32,
      "outputs": [
        {
          "output_type": "execute_result",
          "data": {
            "text/html": [
              "<div>\n",
              "<style scoped>\n",
              "    .dataframe tbody tr th:only-of-type {\n",
              "        vertical-align: middle;\n",
              "    }\n",
              "\n",
              "    .dataframe tbody tr th {\n",
              "        vertical-align: top;\n",
              "    }\n",
              "\n",
              "    .dataframe thead th {\n",
              "        text-align: right;\n",
              "    }\n",
              "</style>\n",
              "<table border=\"1\" class=\"dataframe\">\n",
              "  <thead>\n",
              "    <tr style=\"text-align: right;\">\n",
              "      <th></th>\n",
              "      <th>jobId</th>\n",
              "      <th>companyId</th>\n",
              "      <th>jobType</th>\n",
              "      <th>degree</th>\n",
              "      <th>major</th>\n",
              "      <th>industry</th>\n",
              "    </tr>\n",
              "  </thead>\n",
              "  <tbody>\n",
              "    <tr>\n",
              "      <th>count</th>\n",
              "      <td>999995</td>\n",
              "      <td>999995</td>\n",
              "      <td>999995</td>\n",
              "      <td>999995</td>\n",
              "      <td>999995</td>\n",
              "      <td>999995</td>\n",
              "    </tr>\n",
              "    <tr>\n",
              "      <th>unique</th>\n",
              "      <td>999995</td>\n",
              "      <td>63</td>\n",
              "      <td>8</td>\n",
              "      <td>5</td>\n",
              "      <td>9</td>\n",
              "      <td>7</td>\n",
              "    </tr>\n",
              "    <tr>\n",
              "      <th>top</th>\n",
              "      <td>JOB1362684472157</td>\n",
              "      <td>COMP39</td>\n",
              "      <td>SENIOR</td>\n",
              "      <td>HIGH_SCHOOL</td>\n",
              "      <td>NONE</td>\n",
              "      <td>WEB</td>\n",
              "    </tr>\n",
              "    <tr>\n",
              "      <th>freq</th>\n",
              "      <td>1</td>\n",
              "      <td>16193</td>\n",
              "      <td>125886</td>\n",
              "      <td>236975</td>\n",
              "      <td>532353</td>\n",
              "      <td>143205</td>\n",
              "    </tr>\n",
              "  </tbody>\n",
              "</table>\n",
              "</div>"
            ],
            "text/plain": [
              "                   jobId companyId jobType       degree   major industry\n",
              "count             999995    999995  999995       999995  999995   999995\n",
              "unique            999995        63       8            5       9        7\n",
              "top     JOB1362684472157    COMP39  SENIOR  HIGH_SCHOOL    NONE      WEB\n",
              "freq                   1     16193  125886       236975  532353   143205"
            ]
          },
          "metadata": {},
          "execution_count": 32
        }
      ]
    },
    {
      "cell_type": "code",
      "metadata": {
        "scrolled": false,
        "id": "OgfTj9KZztHv",
        "colab": {
          "base_uri": "https://localhost:8080/",
          "height": 408
        },
        "outputId": "52fef460-cd32-4db5-951d-6c14b65e15a7"
      },
      "source": [
        "# looking for outliers\n",
        "# distribution visualizations for salary (boxplox and displot)\n",
        "plt.figure(figsize = (15,5))\n",
        "plt.subplot(1, 2, 1)\n",
        "sns.boxplot(x = train_data['salary']) #boxplot\n",
        "plt.title(\"Distribution of Salary\")\n",
        "plt.subplot(1,2,2)\n",
        "sns.distplot(train_data['salary'], bins =20, color= \"blue\") #distplot\n",
        "plt.title(\"Distribution of Salary\")\n",
        "# plt.savefig(\"Salary_Outliers.png\")\n",
        "plt.show()"
      ],
      "execution_count": 33,
      "outputs": [
        {
          "output_type": "execute_result",
          "data": {
            "text/plain": [
              "<Figure size 1080x360 with 0 Axes>"
            ]
          },
          "metadata": {},
          "execution_count": 33
        },
        {
          "output_type": "execute_result",
          "data": {
            "text/plain": [
              "<matplotlib.axes._subplots.AxesSubplot at 0x7f72c9ca4a90>"
            ]
          },
          "metadata": {},
          "execution_count": 33
        },
        {
          "output_type": "execute_result",
          "data": {
            "text/plain": [
              "<matplotlib.axes._subplots.AxesSubplot at 0x7f72c9ca4a90>"
            ]
          },
          "metadata": {},
          "execution_count": 33
        },
        {
          "output_type": "execute_result",
          "data": {
            "text/plain": [
              "Text(0.5, 1.0, 'Distribution of Salary')"
            ]
          },
          "metadata": {},
          "execution_count": 33
        },
        {
          "output_type": "execute_result",
          "data": {
            "text/plain": [
              "<matplotlib.axes._subplots.AxesSubplot at 0x7f72c9c0e310>"
            ]
          },
          "metadata": {},
          "execution_count": 33
        },
        {
          "output_type": "execute_result",
          "data": {
            "text/plain": [
              "<matplotlib.axes._subplots.AxesSubplot at 0x7f72c9c0e310>"
            ]
          },
          "metadata": {},
          "execution_count": 33
        },
        {
          "output_type": "execute_result",
          "data": {
            "text/plain": [
              "Text(0.5, 1.0, 'Distribution of Salary')"
            ]
          },
          "metadata": {},
          "execution_count": 33
        },
        {
          "output_type": "display_data",
          "data": {
            "image/png": "[encoded data removed]",
            "text/plain": [
              "<Figure size 1080x360 with 2 Axes>"
            ]
          },
          "metadata": {
            "needs_background": "light"
          }
        }
      ]
    },
    {
      "cell_type": "markdown",
      "metadata": {
        "id": "bpARFOmuztHv"
      },
      "source": [
        "From observing the distributions of the boxplot and displot, we can see that there is a normal distribution with some outliers. I will further explore the outliers and see what categories they fall under so that I can decide if it will be appropriate to drop them or keep them."
      ]
    },
    {
      "cell_type": "code",
      "metadata": {
        "id": "ZeQVhz4JztHv",
        "colab": {
          "base_uri": "https://localhost:8080/"
        },
        "outputId": "78b830ba-47b1-41ee-c931-6d12336c3474"
      },
      "source": [
        "def cal_quartiles(col):\n",
        "    sorted(col)\n",
        "    q1,q3 = col.quantile([0.25, 0.75])\n",
        "    IQR = q3-q1\n",
        "    upper = q3 + (1.5 * IQR)\n",
        "    lower = q1 - (1.5 * IQR)\n",
        "    return upper, lower\n",
        "\n",
        "uppersal, lowersal = cal_quartiles(train_data['salary'])\n",
        "print(\"The upper salary is {} and the lower salary is {}.\".format(uppersal, lowersal))"
      ],
      "execution_count": 34,
      "outputs": [
        {
          "output_type": "stream",
          "name": "stdout",
          "text": [
            "The upper salary is 220.5 and the lower salary is 8.5.\n"
          ]
        }
      ]
    },
    {
      "cell_type": "code",
      "metadata": {
        "id": "JvVa-vy7ztHv",
        "colab": {
          "base_uri": "https://localhost:8080/",
          "height": 439
        },
        "outputId": "4b120b70-1d0d-430c-9201-1ffaf86cf65c"
      },
      "source": [
        "# show the salaries higher than the \"upper salaries\"\n",
        "train_data[train_data['salary'] > uppersal]"
      ],
      "execution_count": 35,
      "outputs": [
        {
          "output_type": "execute_result",
          "data": {
            "text/html": [
              "<div>\n",
              "<style scoped>\n",
              "    .dataframe tbody tr th:only-of-type {\n",
              "        vertical-align: middle;\n",
              "    }\n",
              "\n",
              "    .dataframe tbody tr th {\n",
              "        vertical-align: top;\n",
              "    }\n",
              "\n",
              "    .dataframe thead th {\n",
              "        text-align: right;\n",
              "    }\n",
              "</style>\n",
              "<table border=\"1\" class=\"dataframe\">\n",
              "  <thead>\n",
              "    <tr style=\"text-align: right;\">\n",
              "      <th></th>\n",
              "      <th>jobId</th>\n",
              "      <th>companyId</th>\n",
              "      <th>jobType</th>\n",
              "      <th>degree</th>\n",
              "      <th>major</th>\n",
              "      <th>industry</th>\n",
              "      <th>yearsExperience</th>\n",
              "      <th>milesFromMetropolis</th>\n",
              "      <th>salary</th>\n",
              "    </tr>\n",
              "  </thead>\n",
              "  <tbody>\n",
              "    <tr>\n",
              "      <th>266</th>\n",
              "      <td>JOB1362684407953</td>\n",
              "      <td>COMP30</td>\n",
              "      <td>CEO</td>\n",
              "      <td>MASTERS</td>\n",
              "      <td>BIOLOGY</td>\n",
              "      <td>OIL</td>\n",
              "      <td>23</td>\n",
              "      <td>60</td>\n",
              "      <td>223</td>\n",
              "    </tr>\n",
              "    <tr>\n",
              "      <th>362</th>\n",
              "      <td>JOB1362684408049</td>\n",
              "      <td>COMP38</td>\n",
              "      <td>CTO</td>\n",
              "      <td>MASTERS</td>\n",
              "      <td>NONE</td>\n",
              "      <td>HEALTH</td>\n",
              "      <td>24</td>\n",
              "      <td>3</td>\n",
              "      <td>223</td>\n",
              "    </tr>\n",
              "    <tr>\n",
              "      <th>560</th>\n",
              "      <td>JOB1362684408247</td>\n",
              "      <td>COMP53</td>\n",
              "      <td>CEO</td>\n",
              "      <td>MASTERS</td>\n",
              "      <td>BIOLOGY</td>\n",
              "      <td>WEB</td>\n",
              "      <td>22</td>\n",
              "      <td>7</td>\n",
              "      <td>248</td>\n",
              "    </tr>\n",
              "    <tr>\n",
              "      <th>670</th>\n",
              "      <td>JOB1362684408357</td>\n",
              "      <td>COMP26</td>\n",
              "      <td>CEO</td>\n",
              "      <td>MASTERS</td>\n",
              "      <td>MATH</td>\n",
              "      <td>AUTO</td>\n",
              "      <td>23</td>\n",
              "      <td>9</td>\n",
              "      <td>240</td>\n",
              "    </tr>\n",
              "    <tr>\n",
              "      <th>719</th>\n",
              "      <td>JOB1362684408406</td>\n",
              "      <td>COMP54</td>\n",
              "      <td>VICE_PRESIDENT</td>\n",
              "      <td>DOCTORAL</td>\n",
              "      <td>BIOLOGY</td>\n",
              "      <td>OIL</td>\n",
              "      <td>21</td>\n",
              "      <td>14</td>\n",
              "      <td>225</td>\n",
              "    </tr>\n",
              "    <tr>\n",
              "      <th>...</th>\n",
              "      <td>...</td>\n",
              "      <td>...</td>\n",
              "      <td>...</td>\n",
              "      <td>...</td>\n",
              "      <td>...</td>\n",
              "      <td>...</td>\n",
              "      <td>...</td>\n",
              "      <td>...</td>\n",
              "      <td>...</td>\n",
              "    </tr>\n",
              "    <tr>\n",
              "      <th>998516</th>\n",
              "      <td>JOB1362685406203</td>\n",
              "      <td>COMP29</td>\n",
              "      <td>CFO</td>\n",
              "      <td>MASTERS</td>\n",
              "      <td>ENGINEERING</td>\n",
              "      <td>WEB</td>\n",
              "      <td>14</td>\n",
              "      <td>46</td>\n",
              "      <td>227</td>\n",
              "    </tr>\n",
              "    <tr>\n",
              "      <th>999249</th>\n",
              "      <td>JOB1362685406936</td>\n",
              "      <td>COMP30</td>\n",
              "      <td>CEO</td>\n",
              "      <td>NONE</td>\n",
              "      <td>NONE</td>\n",
              "      <td>OIL</td>\n",
              "      <td>17</td>\n",
              "      <td>10</td>\n",
              "      <td>223</td>\n",
              "    </tr>\n",
              "    <tr>\n",
              "      <th>999280</th>\n",
              "      <td>JOB1362685406967</td>\n",
              "      <td>COMP2</td>\n",
              "      <td>CFO</td>\n",
              "      <td>BACHELORS</td>\n",
              "      <td>BUSINESS</td>\n",
              "      <td>SERVICE</td>\n",
              "      <td>21</td>\n",
              "      <td>0</td>\n",
              "      <td>228</td>\n",
              "    </tr>\n",
              "    <tr>\n",
              "      <th>999670</th>\n",
              "      <td>JOB1362685407357</td>\n",
              "      <td>COMP20</td>\n",
              "      <td>CEO</td>\n",
              "      <td>DOCTORAL</td>\n",
              "      <td>LITERATURE</td>\n",
              "      <td>SERVICE</td>\n",
              "      <td>24</td>\n",
              "      <td>14</td>\n",
              "      <td>233</td>\n",
              "    </tr>\n",
              "    <tr>\n",
              "      <th>999893</th>\n",
              "      <td>JOB1362685407580</td>\n",
              "      <td>COMP9</td>\n",
              "      <td>CEO</td>\n",
              "      <td>DOCTORAL</td>\n",
              "      <td>ENGINEERING</td>\n",
              "      <td>FINANCE</td>\n",
              "      <td>17</td>\n",
              "      <td>33</td>\n",
              "      <td>237</td>\n",
              "    </tr>\n",
              "  </tbody>\n",
              "</table>\n",
              "<p>7117 rows × 9 columns</p>\n",
              "</div>"
            ],
            "text/plain": [
              "                   jobId companyId  ... milesFromMetropolis salary\n",
              "266     JOB1362684407953    COMP30  ...                  60    223\n",
              "362     JOB1362684408049    COMP38  ...                   3    223\n",
              "560     JOB1362684408247    COMP53  ...                   7    248\n",
              "670     JOB1362684408357    COMP26  ...                   9    240\n",
              "719     JOB1362684408406    COMP54  ...                  14    225\n",
              "...                  ...       ...  ...                 ...    ...\n",
              "998516  JOB1362685406203    COMP29  ...                  46    227\n",
              "999249  JOB1362685406936    COMP30  ...                  10    223\n",
              "999280  JOB1362685406967     COMP2  ...                   0    228\n",
              "999670  JOB1362685407357    COMP20  ...                  14    233\n",
              "999893  JOB1362685407580     COMP9  ...                  33    237\n",
              "\n",
              "[7117 rows x 9 columns]"
            ]
          },
          "metadata": {},
          "execution_count": 35
        }
      ]
    },
    {
      "cell_type": "markdown",
      "metadata": {
        "id": "vIXM3hYJztHw"
      },
      "source": [
        "Because this includes so much of the data, it seems like we are probably going to have to keep the data in our analysis. But I'm going to look at value counts for things like jobtype to see if these salaries make sense for what category they fall under. "
      ]
    },
    {
      "cell_type": "code",
      "metadata": {
        "id": "GYlRDvAhztHw",
        "colab": {
          "base_uri": "https://localhost:8080/"
        },
        "outputId": "a3625a7f-00ed-4eb8-a97c-8e0d614a21d2"
      },
      "source": [
        "train_data.loc[train_data['salary']> uppersal, 'jobType'].value_counts()"
      ],
      "execution_count": 36,
      "outputs": [
        {
          "output_type": "execute_result",
          "data": {
            "text/plain": [
              "CEO               3227\n",
              "CFO               1496\n",
              "CTO               1488\n",
              "VICE_PRESIDENT     603\n",
              "MANAGER            217\n",
              "SENIOR              66\n",
              "JUNIOR              20\n",
              "Name: jobType, dtype: int64"
            ]
          },
          "metadata": {},
          "execution_count": 36
        }
      ]
    },
    {
      "cell_type": "markdown",
      "metadata": {
        "id": "3riz9Bp1ztHw"
      },
      "source": [
        "Most of these salaries that are in the upper salary quartile are CEOs, CFOs, or CTOs. This makes sense because these are top earners."
      ]
    },
    {
      "cell_type": "code",
      "metadata": {
        "id": "SoP_mhulztHw"
      },
      "source": [
        "# visualizations between feature variables and target variable (salary)\n",
        "def plot_variables(data, col):\n",
        "    \"Plotting all feature variables in data against target variable col (salary)\"\n",
        "    plt.figure(figsize = (15, 5))\n",
        "    if data[col].dtype != 'int64':\n",
        "        plt.subplot(1,2,1)\n",
        "        # encode categorical values by salary mean\n",
        "        mean = data.groupby(col)['salary'].mean()\n",
        "        data[col] = data[col].astype('category')\n",
        "        levels = mean.sort_values().index.tolist()\n",
        "        data[col].cat.reorder_categories(levels, inplace = True)\n",
        "        mean.sort_values().plot(kind = 'bar')\n",
        "        \n",
        "    if col not in ['companyId', 'yearsExperience', 'milesFromMetropolis']:\n",
        "        plt.xticks(rotation = 45)\n",
        "        plt.xlabel(col)\n",
        "        plt.ylabel('Salary (Mean) by' + '' + col.capitalize())\n",
        "        plt.subplot(1,2,2)\n",
        "        \n",
        "    if data[col].dtype == 'int64':\n",
        "        # mean salary of each category\n",
        "        mean = data.groupby(col)['salary'].mean()\n",
        "        std = data.groupby(col)['salary'].std()\n",
        "        mean.plot()\n",
        "        plt.fill_between(range(len(std.index)), \n",
        "                         mean.values - std.values, \n",
        "                         mean.values + std.values,\n",
        "                        alpha = 0.1)\n",
        "        #plt.savefig(\"images/salary_each_category_\" + col +\".png\")\n",
        "    \n",
        "    else: \n",
        "        sns.boxplot(x = col, y = 'salary', data=data)\n",
        "        plt.xticks(rotation = 45)\n",
        "        plt.ylabel('Salaries')\n",
        "        #plt.savefig(\"images/salary_each_category\" + col + \".png\")\n",
        "        plt.show()"
      ],
      "execution_count": 37,
      "outputs": []
    },
    {
      "cell_type": "code",
      "metadata": {
        "id": "m928-CVdztHx"
      },
      "source": [
        "cat_variables = ['jobId', 'companyId', 'jobType', 'degree', 'major', 'industry'] \n",
        "num_variables = ['yearsExperience', 'milesFromMetropolis', 'salary']\n",
        "feat_variables = ['jobType', 'degree', 'major', 'industry', 'yearsExperience', 'milesFromMetropolis'] "
      ],
      "execution_count": 38,
      "outputs": []
    },
    {
      "cell_type": "code",
      "metadata": {
        "scrolled": false,
        "id": "wv18fMk0ztHx",
        "colab": {
          "base_uri": "https://localhost:8080/",
          "height": 1000
        },
        "outputId": "8b66a334-d546-42e8-be78-3751a1a33a6c"
      },
      "source": [
        "for feature in feat_variables:\n",
        "    plot_variables(train_data, feature)"
      ],
      "execution_count": 39,
      "outputs": [
        {
          "output_type": "display_data",
          "data": {
            "image/png": "[encoded data removed]",
            "text/plain": [
              "<Figure size 1080x360 with 2 Axes>"
            ]
          },
          "metadata": {
            "needs_background": "light"
          }
        },
        {
          "output_type": "display_data",
          "data": {
            "image/png": "[encoded data removed]",
            "text/plain": [
              "<Figure size 1080x360 with 2 Axes>"
            ]
          },
          "metadata": {
            "needs_background": "light"
          }
        },
        {
          "output_type": "display_data",
          "data": {
            "image/png": "[encoded data removed]",
            "text/plain": [
              "<Figure size 1080x360 with 2 Axes>"
            ]
          },
          "metadata": {
            "needs_background": "light"
          }
        },
        {
          "output_type": "display_data",
          "data": {
            "image/png": "[encoded data removed]",
            "text/plain": [
              "<Figure size 1080x360 with 2 Axes>"
            ]
          },
          "metadata": {
            "needs_background": "light"
          }
        },
        {
          "output_type": "display_data",
          "data": {
            "image/png": "[encoded data removed]",
            "text/plain": [
              "<Figure size 1080x360 with 1 Axes>"
            ]
          },
          "metadata": {
            "needs_background": "light"
          }
        },
        {
          "output_type": "display_data",
          "data": {
            "image/png": "[encoded data removed]",
            "text/plain": [
              "<Figure size 1080x360 with 1 Axes>"
            ]
          },
          "metadata": {
            "needs_background": "light"
          }
        }
      ]
    },
    {
      "cell_type": "code",
      "metadata": {
        "id": "ogmLTvFJztHx"
      },
      "source": [
        "# correlations, do not include jobId. create heatmap"
      ],
      "execution_count": 40,
      "outputs": []
    },
    {
      "cell_type": "code",
      "metadata": {
        "id": "8nvaNe3-ztHx"
      },
      "source": [
        "# (encode by salary) encoding for categorical variables\n",
        "def encode_label(data, col):\n",
        "    \"\"\" Encode the categories using average salary for each category to replace label.\n",
        "    \"\"\"\n",
        "    cat_dict = {}\n",
        "    cats = data[col].cat.categories.tolist()\n",
        "    for cat in cats:\n",
        "        cat_dict[cat] = train_data[train_data[col] == cat]['salary'].mean()\n",
        "    data[col] = data[col].map(cat_dict)"
      ],
      "execution_count": 41,
      "outputs": []
    },
    {
      "cell_type": "code",
      "metadata": {
        "id": "f6NmEYbwztHx"
      },
      "source": [
        "train_data_copy = train_data.copy()\n",
        "for col in train_data_copy.columns:\n",
        "    if train_data_copy[col].dtype.name == 'category':\n",
        "        encode_label(train_data_copy, col)\n",
        "        train_data_copy[col] = train_data_copy[col].astype('float')"
      ],
      "execution_count": 42,
      "outputs": []
    },
    {
      "cell_type": "code",
      "metadata": {
        "id": "_nufCV7gztHx",
        "colab": {
          "base_uri": "https://localhost:8080/",
          "height": 665
        },
        "outputId": "cee35a29-a7cc-40c9-99e2-a50342f04e93"
      },
      "source": [
        "fig = plt.figure(figsize=(12, 10))\n",
        "features = ['companyId', 'jobType', 'degree', 'major', 'industry', 'yearsExperience', 'milesFromMetropolis']\n",
        "sns.heatmap(train_data_copy[features + ['salary']].corr(), cmap='Blues', annot=True)\n",
        "plt.xticks(rotation=45)\n",
        "#plt.savefig(\"images/correlation_matrix_heatmap.png\")\n",
        "plt.show();\n"
      ],
      "execution_count": 43,
      "outputs": [
        {
          "output_type": "display_data",
          "data": {
            "image/png": "[encoded data removed]",
            "text/plain": [
              "<Figure size 864x720 with 2 Axes>"
            ]
          },
          "metadata": {
            "needs_background": "light"
          }
        }
      ]
    },
    {
      "cell_type": "markdown",
      "metadata": {
        "id": "BKQ3WfmKztHy"
      },
      "source": [
        "#### Summary of EDA/Data Cleaning:\n",
        "\n"
      ]
    },
    {
      "cell_type": "markdown",
      "metadata": {
        "id": "UrtWNEavztHy"
      },
      "source": [
        "#### ---- 5 Establish a baseline ----"
      ]
    },
    {
      "cell_type": "code",
      "metadata": {
        "id": "3ZROe8h3ztHy",
        "colab": {
          "base_uri": "https://localhost:8080/"
        },
        "outputId": "ed47ff3a-a894-46a2-994c-2c121397dcdd"
      },
      "source": [
        "#select a reasonable metric (MSE in this case)\n",
        "#create an extremely simple model and measure its efficacy\n",
        "#e.g. use \"average salary\" for each industry as your model and then measure MSE\n",
        "#during 5-fold cross-validation\n",
        "\n",
        "# using average salary as a baselline\n",
        "\n",
        "mse_base = mean_squared_error(train_data_copy['industry'], train_data_copy['salary'])\n",
        "mse_base"
      ],
      "execution_count": 44,
      "outputs": [
        {
          "output_type": "execute_result",
          "data": {
            "text/plain": [
              "1367.122950785255"
            ]
          },
          "metadata": {},
          "execution_count": 44
        }
      ]
    },
    {
      "cell_type": "code",
      "metadata": {
        "id": "gfn3m46YztHy",
        "colab": {
          "base_uri": "https://localhost:8080/"
        },
        "outputId": "7aced71d-4a0c-4bbe-d10c-da1d9b1a8c14"
      },
      "source": [
        "# try again with jobType because that has the highest correlation to salary\n",
        "mse_base2 = mean_squared_error(train_data_copy['jobType'], train_data_copy['salary'])\n",
        "mse_base2"
      ],
      "execution_count": 45,
      "outputs": [
        {
          "output_type": "execute_result",
          "data": {
            "text/plain": [
              "963.9252996562975"
            ]
          },
          "metadata": {},
          "execution_count": 45
        }
      ]
    },
    {
      "cell_type": "code",
      "metadata": {
        "id": "33pRcmfhztHz"
      },
      "source": [
        ""
      ],
      "execution_count": 45,
      "outputs": []
    },
    {
      "cell_type": "markdown",
      "metadata": {
        "id": "PCPnBTVFztHz"
      },
      "source": [
        "#### ---- 6 Hypothesize solution ----"
      ]
    },
    {
      "cell_type": "code",
      "metadata": {
        "id": "MPdtoN0aztHz"
      },
      "source": [
        "#brainstorm 3 models that you think may improve results over the baseline model based\n",
        "#on your "
      ],
      "execution_count": 46,
      "outputs": []
    },
    {
      "cell_type": "markdown",
      "metadata": {
        "id": "v1iAO2UMztHz"
      },
      "source": [
        "Brainstorm 3 models that you think may improve results over the baseline model based on your EDA and explain why they're reasonable solutions here.\n",
        "\n",
        "Also write down any new features that you think you should try adding to the model based on your EDA, e.g. interaction variables, summary statistics for each group, etc"
      ]
    },
    {
      "cell_type": "markdown",
      "metadata": {
        "id": "IBfRgVLIztHz"
      },
      "source": [
        "### Part 3 - DEVELOP"
      ]
    },
    {
      "cell_type": "markdown",
      "metadata": {
        "id": "Ey6B6Z96ztHz"
      },
      "source": [
        "You will cycle through creating features, tuning models, and training/validing models (steps 7-9) until you've reached your efficacy goal\n",
        "\n",
        "#### Your metric will be MSE and your goal is:\n",
        " - <360 for entry-level data science roles\n",
        " - <320 for senior data science roles"
      ]
    },
    {
      "cell_type": "markdown",
      "metadata": {
        "id": "NPB6c5jAztHz"
      },
      "source": [
        "#### ---- 7 Engineer features  ----\n"
      ]
    },
    {
      "cell_type": "code",
      "metadata": {
        "id": "nU1fBjR2ztH0",
        "colab": {
          "base_uri": "https://localhost:8080/"
        },
        "outputId": "f1d7f4c6-1402-498e-c21b-441e4b39296d"
      },
      "source": [
        "train_data.info()"
      ],
      "execution_count": 47,
      "outputs": [
        {
          "output_type": "stream",
          "name": "stdout",
          "text": [
            "<class 'pandas.core.frame.DataFrame'>\n",
            "Int64Index: 999995 entries, 0 to 999999\n",
            "Data columns (total 9 columns):\n",
            " #   Column               Non-Null Count   Dtype   \n",
            "---  ------               --------------   -----   \n",
            " 0   jobId                999995 non-null  object  \n",
            " 1   companyId            999995 non-null  object  \n",
            " 2   jobType              999995 non-null  category\n",
            " 3   degree               999995 non-null  category\n",
            " 4   major                999995 non-null  category\n",
            " 5   industry             999995 non-null  category\n",
            " 6   yearsExperience      999995 non-null  int64   \n",
            " 7   milesFromMetropolis  999995 non-null  int64   \n",
            " 8   salary               999995 non-null  int64   \n",
            "dtypes: category(4), int64(3), object(2)\n",
            "memory usage: 89.6+ MB\n"
          ]
        }
      ]
    },
    {
      "cell_type": "code",
      "metadata": {
        "id": "X-Jhx2wdztH0"
      },
      "source": [
        "#feature engineering\n",
        "cat_variables = ['jobType', 'degree', 'major', 'industry'] \n",
        "num_variables = ['yearsExperience', 'milesFromMetropolis', 'salary']\n",
        "feat_variables = ['jobType', 'degree', 'major', 'industry', 'yearsExperience', 'milesFromMetropolis'] "
      ],
      "execution_count": 48,
      "outputs": []
    },
    {
      "cell_type": "code",
      "metadata": {
        "id": "RKuVLjoTztH0",
        "colab": {
          "base_uri": "https://localhost:8080/",
          "height": 224
        },
        "outputId": "b80a232d-0193-4ca5-d07d-2b975ac75523"
      },
      "source": [
        "# dummy vars for cat vars\n",
        "dummy_features_train = pd.get_dummies(train_data[cat_variables], drop_first=True)\n",
        "train_df = pd.concat([dummy_features_train, train_data[num_variables]], axis=1)\n",
        "train_df.head(5)"
      ],
      "execution_count": 49,
      "outputs": [
        {
          "output_type": "execute_result",
          "data": {
            "text/html": [
              "<div>\n",
              "<style scoped>\n",
              "    .dataframe tbody tr th:only-of-type {\n",
              "        vertical-align: middle;\n",
              "    }\n",
              "\n",
              "    .dataframe tbody tr th {\n",
              "        vertical-align: top;\n",
              "    }\n",
              "\n",
              "    .dataframe thead th {\n",
              "        text-align: right;\n",
              "    }\n",
              "</style>\n",
              "<table border=\"1\" class=\"dataframe\">\n",
              "  <thead>\n",
              "    <tr style=\"text-align: right;\">\n",
              "      <th></th>\n",
              "      <th>jobType_JUNIOR</th>\n",
              "      <th>jobType_SENIOR</th>\n",
              "      <th>jobType_MANAGER</th>\n",
              "      <th>jobType_VICE_PRESIDENT</th>\n",
              "      <th>jobType_CFO</th>\n",
              "      <th>jobType_CTO</th>\n",
              "      <th>jobType_CEO</th>\n",
              "      <th>degree_HIGH_SCHOOL</th>\n",
              "      <th>degree_BACHELORS</th>\n",
              "      <th>degree_MASTERS</th>\n",
              "      <th>degree_DOCTORAL</th>\n",
              "      <th>major_LITERATURE</th>\n",
              "      <th>major_BIOLOGY</th>\n",
              "      <th>major_CHEMISTRY</th>\n",
              "      <th>major_PHYSICS</th>\n",
              "      <th>major_COMPSCI</th>\n",
              "      <th>major_MATH</th>\n",
              "      <th>major_BUSINESS</th>\n",
              "      <th>major_ENGINEERING</th>\n",
              "      <th>industry_SERVICE</th>\n",
              "      <th>industry_AUTO</th>\n",
              "      <th>industry_HEALTH</th>\n",
              "      <th>industry_WEB</th>\n",
              "      <th>industry_FINANCE</th>\n",
              "      <th>industry_OIL</th>\n",
              "      <th>yearsExperience</th>\n",
              "      <th>milesFromMetropolis</th>\n",
              "      <th>salary</th>\n",
              "    </tr>\n",
              "  </thead>\n",
              "  <tbody>\n",
              "    <tr>\n",
              "      <th>0</th>\n",
              "      <td>0</td>\n",
              "      <td>0</td>\n",
              "      <td>0</td>\n",
              "      <td>0</td>\n",
              "      <td>1</td>\n",
              "      <td>0</td>\n",
              "      <td>0</td>\n",
              "      <td>0</td>\n",
              "      <td>0</td>\n",
              "      <td>1</td>\n",
              "      <td>0</td>\n",
              "      <td>0</td>\n",
              "      <td>0</td>\n",
              "      <td>0</td>\n",
              "      <td>0</td>\n",
              "      <td>0</td>\n",
              "      <td>1</td>\n",
              "      <td>0</td>\n",
              "      <td>0</td>\n",
              "      <td>0</td>\n",
              "      <td>0</td>\n",
              "      <td>1</td>\n",
              "      <td>0</td>\n",
              "      <td>0</td>\n",
              "      <td>0</td>\n",
              "      <td>10</td>\n",
              "      <td>83</td>\n",
              "      <td>130</td>\n",
              "    </tr>\n",
              "    <tr>\n",
              "      <th>1</th>\n",
              "      <td>0</td>\n",
              "      <td>0</td>\n",
              "      <td>0</td>\n",
              "      <td>0</td>\n",
              "      <td>0</td>\n",
              "      <td>0</td>\n",
              "      <td>1</td>\n",
              "      <td>1</td>\n",
              "      <td>0</td>\n",
              "      <td>0</td>\n",
              "      <td>0</td>\n",
              "      <td>0</td>\n",
              "      <td>0</td>\n",
              "      <td>0</td>\n",
              "      <td>0</td>\n",
              "      <td>0</td>\n",
              "      <td>0</td>\n",
              "      <td>0</td>\n",
              "      <td>0</td>\n",
              "      <td>0</td>\n",
              "      <td>0</td>\n",
              "      <td>0</td>\n",
              "      <td>1</td>\n",
              "      <td>0</td>\n",
              "      <td>0</td>\n",
              "      <td>3</td>\n",
              "      <td>73</td>\n",
              "      <td>101</td>\n",
              "    </tr>\n",
              "    <tr>\n",
              "      <th>2</th>\n",
              "      <td>0</td>\n",
              "      <td>0</td>\n",
              "      <td>0</td>\n",
              "      <td>1</td>\n",
              "      <td>0</td>\n",
              "      <td>0</td>\n",
              "      <td>0</td>\n",
              "      <td>0</td>\n",
              "      <td>0</td>\n",
              "      <td>0</td>\n",
              "      <td>1</td>\n",
              "      <td>0</td>\n",
              "      <td>0</td>\n",
              "      <td>0</td>\n",
              "      <td>1</td>\n",
              "      <td>0</td>\n",
              "      <td>0</td>\n",
              "      <td>0</td>\n",
              "      <td>0</td>\n",
              "      <td>0</td>\n",
              "      <td>0</td>\n",
              "      <td>1</td>\n",
              "      <td>0</td>\n",
              "      <td>0</td>\n",
              "      <td>0</td>\n",
              "      <td>10</td>\n",
              "      <td>38</td>\n",
              "      <td>137</td>\n",
              "    </tr>\n",
              "    <tr>\n",
              "      <th>3</th>\n",
              "      <td>0</td>\n",
              "      <td>0</td>\n",
              "      <td>1</td>\n",
              "      <td>0</td>\n",
              "      <td>0</td>\n",
              "      <td>0</td>\n",
              "      <td>0</td>\n",
              "      <td>0</td>\n",
              "      <td>0</td>\n",
              "      <td>0</td>\n",
              "      <td>1</td>\n",
              "      <td>0</td>\n",
              "      <td>0</td>\n",
              "      <td>1</td>\n",
              "      <td>0</td>\n",
              "      <td>0</td>\n",
              "      <td>0</td>\n",
              "      <td>0</td>\n",
              "      <td>0</td>\n",
              "      <td>0</td>\n",
              "      <td>1</td>\n",
              "      <td>0</td>\n",
              "      <td>0</td>\n",
              "      <td>0</td>\n",
              "      <td>0</td>\n",
              "      <td>8</td>\n",
              "      <td>17</td>\n",
              "      <td>142</td>\n",
              "    </tr>\n",
              "    <tr>\n",
              "      <th>4</th>\n",
              "      <td>0</td>\n",
              "      <td>0</td>\n",
              "      <td>0</td>\n",
              "      <td>1</td>\n",
              "      <td>0</td>\n",
              "      <td>0</td>\n",
              "      <td>0</td>\n",
              "      <td>0</td>\n",
              "      <td>1</td>\n",
              "      <td>0</td>\n",
              "      <td>0</td>\n",
              "      <td>0</td>\n",
              "      <td>0</td>\n",
              "      <td>0</td>\n",
              "      <td>1</td>\n",
              "      <td>0</td>\n",
              "      <td>0</td>\n",
              "      <td>0</td>\n",
              "      <td>0</td>\n",
              "      <td>0</td>\n",
              "      <td>0</td>\n",
              "      <td>0</td>\n",
              "      <td>0</td>\n",
              "      <td>1</td>\n",
              "      <td>0</td>\n",
              "      <td>8</td>\n",
              "      <td>16</td>\n",
              "      <td>163</td>\n",
              "    </tr>\n",
              "  </tbody>\n",
              "</table>\n",
              "</div>"
            ],
            "text/plain": [
              "   jobType_JUNIOR  jobType_SENIOR  ...  milesFromMetropolis  salary\n",
              "0               0               0  ...                   83     130\n",
              "1               0               0  ...                   73     101\n",
              "2               0               0  ...                   38     137\n",
              "3               0               0  ...                   17     142\n",
              "4               0               0  ...                   16     163\n",
              "\n",
              "[5 rows x 28 columns]"
            ]
          },
          "metadata": {},
          "execution_count": 49
        }
      ]
    },
    {
      "cell_type": "code",
      "metadata": {
        "id": "cCwm8dzqztH1"
      },
      "source": [
        "\n",
        "# split the data into train and test sets with test size at 30%\n",
        "X_train, X_test, Y_train, Y_test = train_test_split(train_df.iloc[:,:-1], train_df.salary, test_size=0.3)"
      ],
      "execution_count": 50,
      "outputs": []
    },
    {
      "cell_type": "code",
      "metadata": {
        "id": "a0zCdaL1ztH2",
        "colab": {
          "base_uri": "https://localhost:8080/"
        },
        "outputId": "afd1fa02-0a90-4caa-a580-954561a0f2d2"
      },
      "source": [
        "# Confirming the rows and columns are the \n",
        "# same for train and test data\n",
        "print(X_train.shape)\n",
        "print(X_test.shape)\n",
        "print(Y_train.shape)\n",
        "print(Y_test.shape)"
      ],
      "execution_count": 51,
      "outputs": [
        {
          "output_type": "stream",
          "name": "stdout",
          "text": [
            "(699996, 27)\n",
            "(299999, 27)\n",
            "(699996,)\n",
            "(299999,)\n"
          ]
        }
      ]
    },
    {
      "cell_type": "markdown",
      "metadata": {
        "id": "yRusvGhHztH2"
      },
      "source": [
        "#### ---- 8 Create models ----\n"
      ]
    },
    {
      "cell_type": "code",
      "metadata": {
        "id": "kjJwKxCkztH2"
      },
      "source": [
        "def base_models (model, X_train, X_test, y_train, y_test):\n",
        "    \"\"\"\n",
        "    Function to fit and predict for each model\n",
        "    \n",
        "    Parameters:\n",
        "    \n",
        "    model, X_train, X_test, y_train, y_test\n",
        "    \n",
        "    Returns:\n",
        "    \n",
        "    MSE\n",
        "    \n",
        "    \"\"\"\n",
        "    start_time = time.time()\n",
        "    \n",
        "    model.fit(X_train, y_train)\n",
        "    \n",
        "    predict_train = model.predict(X_train)\n",
        "    mse_train = mean_squared_error(y_train, predict_train)\n",
        "    \n",
        "    time_taken = round(((time.time() - start_time) / 60),3)\n",
        "    \n",
        "    print(\"---\" + str(time_taken) + \" minutes ---\")\n",
        "    \n",
        "    print(\"MSE: Train Data \" + str(round(mse_train,2)))"
      ],
      "execution_count": 52,
      "outputs": []
    },
    {
      "cell_type": "code",
      "metadata": {
        "id": "oRBW9MOgztH2"
      },
      "source": [
        "def display_scores(model, X_train, y_train):\n",
        "    \"\"\"\n",
        "    Function for cross validation scores\n",
        "    \n",
        "    Parameters:\n",
        "    \n",
        "    model, X_train, y_train\n",
        "    \n",
        "    Returns:\n",
        "    \n",
        "    MSE -- Scores, Avg, and Standard Dev\n",
        "    \n",
        "    \"\"\"\n",
        "    \n",
        "    cv = 5\n",
        "    \n",
        "    start_time = time.time()\n",
        "    \n",
        "    scores = cross_val_score(model, X_train, y_train, scoring = \"neg_mean_squared_error\", cv=cv)\n",
        "    mse_scores = -1.0 * (scores)\n",
        "    \n",
        "    time_taken = round(((time.time() - start_time) / 60),3)\n",
        "    \n",
        "    print(\"--- \" + str(time_taken) + \" minutes ---\")\n",
        "    print(\"MSE Scores:\", mse_scores)\n",
        "    print(\"MSE Mean:\", mse_scores.mean())\n",
        "    print(\"Standard deviation of MSE scores:\", mse_scores.std())\n",
        "    "
      ],
      "execution_count": 53,
      "outputs": []
    },
    {
      "cell_type": "code",
      "metadata": {
        "id": "I9CWd22nztH3"
      },
      "source": [
        "import sklearn"
      ],
      "execution_count": 55,
      "outputs": []
    },
    {
      "cell_type": "code",
      "metadata": {
        "id": "M4AaSWwBztH3"
      },
      "source": [
        ""
      ],
      "execution_count": 55,
      "outputs": []
    },
    {
      "cell_type": "markdown",
      "metadata": {
        "id": "nb2OUgKwztH3"
      },
      "source": [
        "<b>Base Evaluation: Fitting the training data with hypothesized models</b>"
      ]
    },
    {
      "cell_type": "code",
      "metadata": {
        "id": "H8yrKJ0xztH4"
      },
      "source": [
        "# Fit X_train"
      ],
      "execution_count": 56,
      "outputs": []
    },
    {
      "cell_type": "code",
      "metadata": {
        "id": "ATHXDPT0ztH4",
        "colab": {
          "base_uri": "https://localhost:8080/"
        },
        "outputId": "f5d56777-da46-445b-e5f3-73067fe78fd8"
      },
      "source": [
        "# Linear Regression - Base Model\n",
        "lm = LinearRegression()\n",
        "base_models(lm, X_train, X_test, Y_train, Y_test)"
      ],
      "execution_count": 57,
      "outputs": [
        {
          "output_type": "stream",
          "name": "stdout",
          "text": [
            "---0.015 minutes ---\n",
            "MSE: Train Data 384.95\n"
          ]
        }
      ]
    },
    {
      "cell_type": "code",
      "metadata": {
        "id": "NWQVK4avztH5",
        "colab": {
          "base_uri": "https://localhost:8080/"
        },
        "outputId": "22045041-a9b7-4cdc-ee03-c0dafb21787a"
      },
      "source": [
        "# Random Forest Regression - Base Model\n",
        "forest_reg = RandomForestRegressor(n_estimators=150, max_depth=25, max_features=25, random_state=0, min_samples_split=60)\n",
        "base_models(forest_reg, X_train, X_test, Y_train, Y_test)"
      ],
      "execution_count": 58,
      "outputs": [
        {
          "output_type": "stream",
          "name": "stdout",
          "text": [
            "---5.48 minutes ---\n",
            "MSE: Train Data 326.07\n"
          ]
        }
      ]
    },
    {
      "cell_type": "code",
      "metadata": {
        "id": "3tq1LA6dztH5",
        "colab": {
          "base_uri": "https://localhost:8080/"
        },
        "outputId": "ce8c8627-04f3-4f1c-ff92-cb1b7f210774"
      },
      "source": [
        "# Gradient Boosting Regressor - Base Model\n",
        "grad_booreg = GradientBoostingRegressor(n_estimators=150, max_depth=7, loss='ls', verbose=0)\n",
        "base_models(grad_booreg, X_train, X_test, Y_train, Y_test)"
      ],
      "execution_count": 59,
      "outputs": [
        {
          "output_type": "stream",
          "name": "stdout",
          "text": [
            "---4.54 minutes ---\n",
            "MSE: Train Data 350.53\n"
          ]
        }
      ]
    },
    {
      "cell_type": "code",
      "metadata": {
        "id": "p8T_JmDTztH5",
        "colab": {
          "base_uri": "https://localhost:8080/"
        },
        "outputId": "483dc241-bc39-4408-f78f-6d269914afc3"
      },
      "source": [
        "# XGBRegressor - Base Model\n",
        "xg_reg = xgb.XGBRegressor(objective ='reg:squarederror')\n",
        "base_models(xg_reg, X_train, X_test, Y_train, Y_test)"
      ],
      "execution_count": 60,
      "outputs": [
        {
          "output_type": "stream",
          "name": "stdout",
          "text": [
            "---0.977 minutes ---\n",
            "MSE: Train Data 427.93\n"
          ]
        }
      ]
    },
    {
      "cell_type": "code",
      "metadata": {
        "id": "DK_CWISmztH6"
      },
      "source": [
        "#create and tune the models that you brainstormed during part 2"
      ],
      "execution_count": 61,
      "outputs": []
    },
    {
      "cell_type": "markdown",
      "metadata": {
        "id": "F29p_s7aztH6"
      },
      "source": [
        "#### ---- 9 Test models ----"
      ]
    },
    {
      "cell_type": "code",
      "metadata": {
        "id": "FRPLpaw3ztH6"
      },
      "source": [
        "#do 5-fold cross validation on models and measure MSE"
      ],
      "execution_count": 62,
      "outputs": []
    },
    {
      "cell_type": "code",
      "metadata": {
        "id": "IsFy_gVGztH6",
        "colab": {
          "base_uri": "https://localhost:8080/"
        },
        "outputId": "541a18d2-fa4f-445a-8718-f61cf1e3ff3c"
      },
      "source": [
        "# Linear Regression - CV Model\n",
        "display_scores(lm, X_train, Y_train)\n"
      ],
      "execution_count": 63,
      "outputs": [
        {
          "output_type": "stream",
          "name": "stdout",
          "text": [
            "--- 0.064 minutes ---\n",
            "MSE Scores: [386.99577831 384.83766336 385.8495297  382.23407262 385.03351765]\n",
            "MSE Mean: 384.99011232713724\n",
            "Standard deviation of MSE scores: 1.5736692042075284\n"
          ]
        }
      ]
    },
    {
      "cell_type": "code",
      "metadata": {
        "id": "Iv6YrmqxztH6",
        "colab": {
          "base_uri": "https://localhost:8080/"
        },
        "outputId": "7bce3be4-0aab-409a-f895-d0fe40fe05e4"
      },
      "source": [
        "# Random Forest Regression - CV Model\n",
        "display_scores(forest_reg, X_train, Y_train)"
      ],
      "execution_count": 64,
      "outputs": [
        {
          "output_type": "stream",
          "name": "stdout",
          "text": [
            "--- 21.28 minutes ---\n",
            "MSE Scores: [375.03808115 373.40736226 373.47326399 370.57008965 372.84379185]\n",
            "MSE Mean: 373.0665177803054\n",
            "Standard deviation of MSE scores: 1.4457136507098303\n"
          ]
        }
      ]
    },
    {
      "cell_type": "code",
      "metadata": {
        "id": "5_gvOZnEztH6",
        "colab": {
          "base_uri": "https://localhost:8080/"
        },
        "outputId": "4b3f34da-8952-4753-9f0d-39bbd7c3f05c"
      },
      "source": [
        "# Gradient Boosting Regressor - CV Model\n",
        "display_scores(grad_booreg, X_train, Y_train)"
      ],
      "execution_count": 65,
      "outputs": [
        {
          "output_type": "stream",
          "name": "stdout",
          "text": [
            "--- 17.634 minutes ---\n",
            "MSE Scores: [360.49700749 359.24059982 359.19631621 357.37905995 359.57520186]\n",
            "MSE Mean: 359.1776370647418\n",
            "Standard deviation of MSE scores: 1.0137049811888734\n"
          ]
        }
      ]
    },
    {
      "cell_type": "code",
      "metadata": {
        "id": "gtD6RTH8ztH7",
        "colab": {
          "base_uri": "https://localhost:8080/"
        },
        "outputId": "89833044-0f9d-48ac-cd04-e908349f291d"
      },
      "source": [
        "# XGBRegressor - CV Model\n",
        "display_scores(xg_reg, X_train, Y_train)"
      ],
      "execution_count": 66,
      "outputs": [
        {
          "output_type": "stream",
          "name": "stdout",
          "text": [
            "--- 3.802 minutes ---\n",
            "MSE Scores: [431.08993996 429.1353443  428.60360646 425.11371423 429.45891704]\n",
            "MSE Mean: 428.6803043983954\n",
            "Standard deviation of MSE scores: 1.9670328176607808\n"
          ]
        }
      ]
    },
    {
      "cell_type": "markdown",
      "metadata": {
        "id": "SaWB__krztH7"
      },
      "source": [
        "#### ---- 10 Select best model  ----"
      ]
    },
    {
      "cell_type": "code",
      "metadata": {
        "id": "QnK_1nlNztH7",
        "colab": {
          "base_uri": "https://localhost:8080/",
          "height": 173
        },
        "outputId": "0f4cc911-47e9-4e29-b7b0-90a724a550b6"
      },
      "source": [
        "#select the model with the lowest error as your \"production\" model\n",
        "\n",
        "models_MSE =pd.DataFrame(({'Models':['Linear regression','Random Forest','Gradient Boosting Regressor', 'XGBRegressor'],\n",
        "               'Mean Squared Error':[384.38, 372.98, 358.89, 428.17]}))\n",
        "models_MSE"
      ],
      "execution_count": 69,
      "outputs": [
        {
          "output_type": "execute_result",
          "data": {
            "text/html": [
              "<div>\n",
              "<style scoped>\n",
              "    .dataframe tbody tr th:only-of-type {\n",
              "        vertical-align: middle;\n",
              "    }\n",
              "\n",
              "    .dataframe tbody tr th {\n",
              "        vertical-align: top;\n",
              "    }\n",
              "\n",
              "    .dataframe thead th {\n",
              "        text-align: right;\n",
              "    }\n",
              "</style>\n",
              "<table border=\"1\" class=\"dataframe\">\n",
              "  <thead>\n",
              "    <tr style=\"text-align: right;\">\n",
              "      <th></th>\n",
              "      <th>Models</th>\n",
              "      <th>Mean Squared Error</th>\n",
              "    </tr>\n",
              "  </thead>\n",
              "  <tbody>\n",
              "    <tr>\n",
              "      <th>0</th>\n",
              "      <td>Linear regression</td>\n",
              "      <td>384.38</td>\n",
              "    </tr>\n",
              "    <tr>\n",
              "      <th>1</th>\n",
              "      <td>Random Forest</td>\n",
              "      <td>372.98</td>\n",
              "    </tr>\n",
              "    <tr>\n",
              "      <th>2</th>\n",
              "      <td>Gradient Boosting Regressor</td>\n",
              "      <td>358.89</td>\n",
              "    </tr>\n",
              "    <tr>\n",
              "      <th>3</th>\n",
              "      <td>XGBRegressor</td>\n",
              "      <td>428.17</td>\n",
              "    </tr>\n",
              "  </tbody>\n",
              "</table>\n",
              "</div>"
            ],
            "text/plain": [
              "                        Models  Mean Squared Error\n",
              "0            Linear regression              384.38\n",
              "1                Random Forest              372.98\n",
              "2  Gradient Boosting Regressor              358.89\n",
              "3                 XGBRegressor              428.17"
            ]
          },
          "metadata": {},
          "execution_count": 69
        }
      ]
    },
    {
      "cell_type": "markdown",
      "metadata": {
        "id": "VHFRKOmNztH7"
      },
      "source": [
        "### Part 4 - DEPLOY"
      ]
    },
    {
      "cell_type": "markdown",
      "metadata": {
        "id": "Ydswz3ArztH7"
      },
      "source": [
        "#### ---- 11 Automate pipeline ----"
      ]
    },
    {
      "cell_type": "code",
      "metadata": {
        "id": "06YnWgq_ztH7"
      },
      "source": [
        "#write script that trains model on entire training set, saves model to disk,\n",
        "#and scores the \"test\" dataset"
      ],
      "execution_count": 70,
      "outputs": []
    },
    {
      "cell_type": "code",
      "metadata": {
        "id": "Xkqcv4iQIj-U"
      },
      "source": [
        "# Train model on trianing set and save to csv\n",
        "num_variables.remove('salary')"
      ],
      "execution_count": 71,
      "outputs": []
    },
    {
      "cell_type": "code",
      "metadata": {
        "id": "BJvv3HZUIrNc"
      },
      "source": [
        "dummy_features_test = pd.get_dummies(test_features[cat_variables], drop_first=True)\n",
        "test_df = pd.concat([dummy_features_test, test_features[num_variables]], axis=1)"
      ],
      "execution_count": 72,
      "outputs": []
    },
    {
      "cell_type": "code",
      "metadata": {
        "colab": {
          "base_uri": "https://localhost:8080/",
          "height": 224
        },
        "id": "EJdimiQhIxgk",
        "outputId": "23cdded4-eaff-42b3-ae1b-4dba5c1f03c6"
      },
      "source": [
        "test_df.head()\n"
      ],
      "execution_count": 73,
      "outputs": [
        {
          "output_type": "execute_result",
          "data": {
            "text/html": [
              "<div>\n",
              "<style scoped>\n",
              "    .dataframe tbody tr th:only-of-type {\n",
              "        vertical-align: middle;\n",
              "    }\n",
              "\n",
              "    .dataframe tbody tr th {\n",
              "        vertical-align: top;\n",
              "    }\n",
              "\n",
              "    .dataframe thead th {\n",
              "        text-align: right;\n",
              "    }\n",
              "</style>\n",
              "<table border=\"1\" class=\"dataframe\">\n",
              "  <thead>\n",
              "    <tr style=\"text-align: right;\">\n",
              "      <th></th>\n",
              "      <th>jobType_CFO</th>\n",
              "      <th>jobType_CTO</th>\n",
              "      <th>jobType_JANITOR</th>\n",
              "      <th>jobType_JUNIOR</th>\n",
              "      <th>jobType_MANAGER</th>\n",
              "      <th>jobType_SENIOR</th>\n",
              "      <th>jobType_VICE_PRESIDENT</th>\n",
              "      <th>degree_DOCTORAL</th>\n",
              "      <th>degree_HIGH_SCHOOL</th>\n",
              "      <th>degree_MASTERS</th>\n",
              "      <th>degree_NONE</th>\n",
              "      <th>major_BUSINESS</th>\n",
              "      <th>major_CHEMISTRY</th>\n",
              "      <th>major_COMPSCI</th>\n",
              "      <th>major_ENGINEERING</th>\n",
              "      <th>major_LITERATURE</th>\n",
              "      <th>major_MATH</th>\n",
              "      <th>major_NONE</th>\n",
              "      <th>major_PHYSICS</th>\n",
              "      <th>industry_EDUCATION</th>\n",
              "      <th>industry_FINANCE</th>\n",
              "      <th>industry_HEALTH</th>\n",
              "      <th>industry_OIL</th>\n",
              "      <th>industry_SERVICE</th>\n",
              "      <th>industry_WEB</th>\n",
              "      <th>yearsExperience</th>\n",
              "      <th>milesFromMetropolis</th>\n",
              "    </tr>\n",
              "  </thead>\n",
              "  <tbody>\n",
              "    <tr>\n",
              "      <th>0</th>\n",
              "      <td>0</td>\n",
              "      <td>0</td>\n",
              "      <td>0</td>\n",
              "      <td>0</td>\n",
              "      <td>1</td>\n",
              "      <td>0</td>\n",
              "      <td>0</td>\n",
              "      <td>0</td>\n",
              "      <td>1</td>\n",
              "      <td>0</td>\n",
              "      <td>0</td>\n",
              "      <td>0</td>\n",
              "      <td>0</td>\n",
              "      <td>0</td>\n",
              "      <td>0</td>\n",
              "      <td>0</td>\n",
              "      <td>0</td>\n",
              "      <td>1</td>\n",
              "      <td>0</td>\n",
              "      <td>0</td>\n",
              "      <td>0</td>\n",
              "      <td>1</td>\n",
              "      <td>0</td>\n",
              "      <td>0</td>\n",
              "      <td>0</td>\n",
              "      <td>22</td>\n",
              "      <td>73</td>\n",
              "    </tr>\n",
              "    <tr>\n",
              "      <th>1</th>\n",
              "      <td>0</td>\n",
              "      <td>0</td>\n",
              "      <td>0</td>\n",
              "      <td>1</td>\n",
              "      <td>0</td>\n",
              "      <td>0</td>\n",
              "      <td>0</td>\n",
              "      <td>0</td>\n",
              "      <td>0</td>\n",
              "      <td>0</td>\n",
              "      <td>1</td>\n",
              "      <td>0</td>\n",
              "      <td>0</td>\n",
              "      <td>0</td>\n",
              "      <td>0</td>\n",
              "      <td>0</td>\n",
              "      <td>0</td>\n",
              "      <td>1</td>\n",
              "      <td>0</td>\n",
              "      <td>0</td>\n",
              "      <td>0</td>\n",
              "      <td>0</td>\n",
              "      <td>0</td>\n",
              "      <td>0</td>\n",
              "      <td>0</td>\n",
              "      <td>20</td>\n",
              "      <td>47</td>\n",
              "    </tr>\n",
              "    <tr>\n",
              "      <th>2</th>\n",
              "      <td>0</td>\n",
              "      <td>1</td>\n",
              "      <td>0</td>\n",
              "      <td>0</td>\n",
              "      <td>0</td>\n",
              "      <td>0</td>\n",
              "      <td>0</td>\n",
              "      <td>0</td>\n",
              "      <td>0</td>\n",
              "      <td>1</td>\n",
              "      <td>0</td>\n",
              "      <td>0</td>\n",
              "      <td>0</td>\n",
              "      <td>0</td>\n",
              "      <td>0</td>\n",
              "      <td>0</td>\n",
              "      <td>0</td>\n",
              "      <td>0</td>\n",
              "      <td>0</td>\n",
              "      <td>0</td>\n",
              "      <td>0</td>\n",
              "      <td>1</td>\n",
              "      <td>0</td>\n",
              "      <td>0</td>\n",
              "      <td>0</td>\n",
              "      <td>17</td>\n",
              "      <td>9</td>\n",
              "    </tr>\n",
              "    <tr>\n",
              "      <th>3</th>\n",
              "      <td>0</td>\n",
              "      <td>0</td>\n",
              "      <td>0</td>\n",
              "      <td>0</td>\n",
              "      <td>1</td>\n",
              "      <td>0</td>\n",
              "      <td>0</td>\n",
              "      <td>0</td>\n",
              "      <td>1</td>\n",
              "      <td>0</td>\n",
              "      <td>0</td>\n",
              "      <td>0</td>\n",
              "      <td>0</td>\n",
              "      <td>0</td>\n",
              "      <td>0</td>\n",
              "      <td>0</td>\n",
              "      <td>0</td>\n",
              "      <td>1</td>\n",
              "      <td>0</td>\n",
              "      <td>0</td>\n",
              "      <td>0</td>\n",
              "      <td>0</td>\n",
              "      <td>1</td>\n",
              "      <td>0</td>\n",
              "      <td>0</td>\n",
              "      <td>14</td>\n",
              "      <td>96</td>\n",
              "    </tr>\n",
              "    <tr>\n",
              "      <th>4</th>\n",
              "      <td>0</td>\n",
              "      <td>0</td>\n",
              "      <td>0</td>\n",
              "      <td>1</td>\n",
              "      <td>0</td>\n",
              "      <td>0</td>\n",
              "      <td>0</td>\n",
              "      <td>1</td>\n",
              "      <td>0</td>\n",
              "      <td>0</td>\n",
              "      <td>0</td>\n",
              "      <td>0</td>\n",
              "      <td>0</td>\n",
              "      <td>0</td>\n",
              "      <td>0</td>\n",
              "      <td>0</td>\n",
              "      <td>0</td>\n",
              "      <td>0</td>\n",
              "      <td>0</td>\n",
              "      <td>0</td>\n",
              "      <td>0</td>\n",
              "      <td>0</td>\n",
              "      <td>1</td>\n",
              "      <td>0</td>\n",
              "      <td>0</td>\n",
              "      <td>10</td>\n",
              "      <td>44</td>\n",
              "    </tr>\n",
              "  </tbody>\n",
              "</table>\n",
              "</div>"
            ],
            "text/plain": [
              "   jobType_CFO  jobType_CTO  ...  yearsExperience  milesFromMetropolis\n",
              "0            0            0  ...               22                   73\n",
              "1            0            0  ...               20                   47\n",
              "2            0            1  ...               17                    9\n",
              "3            0            0  ...               14                   96\n",
              "4            0            0  ...               10                   44\n",
              "\n",
              "[5 rows x 27 columns]"
            ]
          },
          "metadata": {},
          "execution_count": 73
        }
      ]
    },
    {
      "cell_type": "code",
      "metadata": {
        "colab": {
          "base_uri": "https://localhost:8080/"
        },
        "id": "4Y1Ol1r5I3LC",
        "outputId": "d4346131-244d-47af-fa5d-7ebf40328c15"
      },
      "source": [
        "# Use best model ()\n",
        "grad_booreg.fit(train_df.iloc[:,:-1], train_df.salary)\n"
      ],
      "execution_count": 74,
      "outputs": [
        {
          "output_type": "execute_result",
          "data": {
            "text/plain": [
              "GradientBoostingRegressor(loss='ls', max_depth=7, n_estimators=150)"
            ]
          },
          "metadata": {},
          "execution_count": 74
        }
      ]
    },
    {
      "cell_type": "code",
      "metadata": {
        "id": "i4lpLPHNJF9Q"
      },
      "source": [
        "test_prediction = grad_booreg.predict(test_df) \n",
        "prediction = pd.DataFrame(test_prediction).rename(columns={0:'predicted_salary'})"
      ],
      "execution_count": 75,
      "outputs": []
    },
    {
      "cell_type": "code",
      "metadata": {
        "colab": {
          "base_uri": "https://localhost:8080/",
          "height": 359
        },
        "id": "VHaK-5D_JKxb",
        "outputId": "10fb7375-245f-424b-ff9a-7f78bbee210a"
      },
      "source": [
        "# score the \"test\" dataset\n",
        "final_prediction = pd.concat([test_features['jobId'], prediction], axis=1)\n",
        "final_prediction.head(10)"
      ],
      "execution_count": 76,
      "outputs": [
        {
          "output_type": "execute_result",
          "data": {
            "text/html": [
              "<div>\n",
              "<style scoped>\n",
              "    .dataframe tbody tr th:only-of-type {\n",
              "        vertical-align: middle;\n",
              "    }\n",
              "\n",
              "    .dataframe tbody tr th {\n",
              "        vertical-align: top;\n",
              "    }\n",
              "\n",
              "    .dataframe thead th {\n",
              "        text-align: right;\n",
              "    }\n",
              "</style>\n",
              "<table border=\"1\" class=\"dataframe\">\n",
              "  <thead>\n",
              "    <tr style=\"text-align: right;\">\n",
              "      <th></th>\n",
              "      <th>jobId</th>\n",
              "      <th>predicted_salary</th>\n",
              "    </tr>\n",
              "  </thead>\n",
              "  <tbody>\n",
              "    <tr>\n",
              "      <th>0</th>\n",
              "      <td>JOB1362685407687</td>\n",
              "      <td>141.906754</td>\n",
              "    </tr>\n",
              "    <tr>\n",
              "      <th>1</th>\n",
              "      <td>JOB1362685407688</td>\n",
              "      <td>141.441924</td>\n",
              "    </tr>\n",
              "    <tr>\n",
              "      <th>2</th>\n",
              "      <td>JOB1362685407689</td>\n",
              "      <td>136.424769</td>\n",
              "    </tr>\n",
              "    <tr>\n",
              "      <th>3</th>\n",
              "      <td>JOB1362685407690</td>\n",
              "      <td>127.004795</td>\n",
              "    </tr>\n",
              "    <tr>\n",
              "      <th>4</th>\n",
              "      <td>JOB1362685407691</td>\n",
              "      <td>116.857761</td>\n",
              "    </tr>\n",
              "    <tr>\n",
              "      <th>5</th>\n",
              "      <td>JOB1362685407692</td>\n",
              "      <td>97.367184</td>\n",
              "    </tr>\n",
              "    <tr>\n",
              "      <th>6</th>\n",
              "      <td>JOB1362685407693</td>\n",
              "      <td>146.130450</td>\n",
              "    </tr>\n",
              "    <tr>\n",
              "      <th>7</th>\n",
              "      <td>JOB1362685407694</td>\n",
              "      <td>68.517154</td>\n",
              "    </tr>\n",
              "    <tr>\n",
              "      <th>8</th>\n",
              "      <td>JOB1362685407695</td>\n",
              "      <td>110.941977</td>\n",
              "    </tr>\n",
              "    <tr>\n",
              "      <th>9</th>\n",
              "      <td>JOB1362685407696</td>\n",
              "      <td>133.159301</td>\n",
              "    </tr>\n",
              "  </tbody>\n",
              "</table>\n",
              "</div>"
            ],
            "text/plain": [
              "              jobId  predicted_salary\n",
              "0  JOB1362685407687        141.906754\n",
              "1  JOB1362685407688        141.441924\n",
              "2  JOB1362685407689        136.424769\n",
              "3  JOB1362685407690        127.004795\n",
              "4  JOB1362685407691        116.857761\n",
              "5  JOB1362685407692         97.367184\n",
              "6  JOB1362685407693        146.130450\n",
              "7  JOB1362685407694         68.517154\n",
              "8  JOB1362685407695        110.941977\n",
              "9  JOB1362685407696        133.159301"
            ]
          },
          "metadata": {},
          "execution_count": 76
        }
      ]
    },
    {
      "cell_type": "markdown",
      "metadata": {
        "id": "wII39WODztH7"
      },
      "source": [
        "#### ---- 12 Deploy solution ----"
      ]
    },
    {
      "cell_type": "code",
      "metadata": {
        "id": "K1sTVGW0ztH7"
      },
      "source": [
        "# save your prediction to a csv file\n",
        "final_prediction.to_csv(\"Salary_Predictions.csv\", index=False)"
      ],
      "execution_count": 77,
      "outputs": []
    },
    {
      "cell_type": "markdown",
      "metadata": {
        "id": "3PqDfdyzztH8"
      },
      "source": [
        "#### ---- 13 Feature Importance ----"
      ]
    },
    {
      "cell_type": "code",
      "metadata": {
        "id": "KSkjkQxQOjKb"
      },
      "source": [
        "feature_importance = pd.DataFrame({'features': test_df.columns, 'importance': grad_booreg.feature_importances_})\n"
      ],
      "execution_count": 80,
      "outputs": []
    },
    {
      "cell_type": "code",
      "metadata": {
        "id": "vP403SwyztH8"
      },
      "source": [
        "feature_importance.sort_values(by='importance', ascending=False, inplace=True)\n"
      ],
      "execution_count": 81,
      "outputs": []
    },
    {
      "cell_type": "code",
      "metadata": {
        "colab": {
          "base_uri": "https://localhost:8080/",
          "height": 359
        },
        "id": "_ek9Y1Vq0tRU",
        "outputId": "21c09e25-841c-4339-9cba-35191f1248c9"
      },
      "source": [
        "feature_importance.head(10)"
      ],
      "execution_count": 85,
      "outputs": [
        {
          "output_type": "execute_result",
          "data": {
            "text/html": [
              "<div>\n",
              "<style scoped>\n",
              "    .dataframe tbody tr th:only-of-type {\n",
              "        vertical-align: middle;\n",
              "    }\n",
              "\n",
              "    .dataframe tbody tr th {\n",
              "        vertical-align: top;\n",
              "    }\n",
              "\n",
              "    .dataframe thead th {\n",
              "        text-align: right;\n",
              "    }\n",
              "</style>\n",
              "<table border=\"1\" class=\"dataframe\">\n",
              "  <thead>\n",
              "    <tr style=\"text-align: right;\">\n",
              "      <th></th>\n",
              "      <th>features</th>\n",
              "      <th>importance</th>\n",
              "    </tr>\n",
              "  </thead>\n",
              "  <tbody>\n",
              "    <tr>\n",
              "      <th>25</th>\n",
              "      <td>yearsExperience</td>\n",
              "      <td>0.187274</td>\n",
              "    </tr>\n",
              "    <tr>\n",
              "      <th>26</th>\n",
              "      <td>milesFromMetropolis</td>\n",
              "      <td>0.129014</td>\n",
              "    </tr>\n",
              "    <tr>\n",
              "      <th>6</th>\n",
              "      <td>jobType_VICE_PRESIDENT</td>\n",
              "      <td>0.107324</td>\n",
              "    </tr>\n",
              "    <tr>\n",
              "      <th>5</th>\n",
              "      <td>jobType_SENIOR</td>\n",
              "      <td>0.073871</td>\n",
              "    </tr>\n",
              "    <tr>\n",
              "      <th>4</th>\n",
              "      <td>jobType_MANAGER</td>\n",
              "      <td>0.071621</td>\n",
              "    </tr>\n",
              "    <tr>\n",
              "      <th>10</th>\n",
              "      <td>degree_NONE</td>\n",
              "      <td>0.055020</td>\n",
              "    </tr>\n",
              "    <tr>\n",
              "      <th>3</th>\n",
              "      <td>jobType_JUNIOR</td>\n",
              "      <td>0.054582</td>\n",
              "    </tr>\n",
              "    <tr>\n",
              "      <th>8</th>\n",
              "      <td>degree_HIGH_SCHOOL</td>\n",
              "      <td>0.049270</td>\n",
              "    </tr>\n",
              "    <tr>\n",
              "      <th>9</th>\n",
              "      <td>degree_MASTERS</td>\n",
              "      <td>0.049247</td>\n",
              "    </tr>\n",
              "    <tr>\n",
              "      <th>23</th>\n",
              "      <td>industry_SERVICE</td>\n",
              "      <td>0.037705</td>\n",
              "    </tr>\n",
              "  </tbody>\n",
              "</table>\n",
              "</div>"
            ],
            "text/plain": [
              "                  features  importance\n",
              "25         yearsExperience    0.187274\n",
              "26     milesFromMetropolis    0.129014\n",
              "6   jobType_VICE_PRESIDENT    0.107324\n",
              "5           jobType_SENIOR    0.073871\n",
              "4          jobType_MANAGER    0.071621\n",
              "10             degree_NONE    0.055020\n",
              "3           jobType_JUNIOR    0.054582\n",
              "8       degree_HIGH_SCHOOL    0.049270\n",
              "9           degree_MASTERS    0.049247\n",
              "23        industry_SERVICE    0.037705"
            ]
          },
          "metadata": {},
          "execution_count": 85
        }
      ]
    },
    {
      "cell_type": "code",
      "metadata": {
        "id": "6lPiVutTztH8",
        "colab": {
          "base_uri": "https://localhost:8080/",
          "height": 409
        },
        "outputId": "97affb1e-1d73-4f4a-a5c1-0280b6ef97d8"
      },
      "source": [
        "plt.figure(figsize=(18,10))\n",
        "sns.barplot(x='importance', y='features',color='blue', data=feature_importance)\n",
        "plt.show();"
      ],
      "execution_count": 82,
      "outputs": [
        {
          "output_type": "display_data",
          "data": {
            "image/png": "[encoded data removed]",
            "text/plain": [
              "<Figure size 1296x720 with 1 Axes>"
            ]
          },
          "metadata": {
            "needs_background": "light"
          }
        }
      ]
    }
  ]
}